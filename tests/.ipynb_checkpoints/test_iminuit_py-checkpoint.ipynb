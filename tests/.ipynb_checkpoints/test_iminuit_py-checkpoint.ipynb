{
 "cells": [
  {
   "cell_type": "code",
   "execution_count": 1,
   "metadata": {},
   "outputs": [],
   "source": [
    "using PyCall;"
   ]
  },
  {
   "cell_type": "code",
   "execution_count": 2,
   "metadata": {},
   "outputs": [
    {
     "data": {
      "text/plain": [
       "PyObject <module 'iminuit' from '/Library/Frameworks/Python.framework/Versions/3.10/lib/python3.10/site-packages/iminuit/__init__.py'>"
      ]
     },
     "execution_count": 2,
     "metadata": {},
     "output_type": "execute_result"
    }
   ],
   "source": [
    "piminuit=pyimport(\"iminuit\")"
   ]
  },
  {
   "cell_type": "code",
   "execution_count": 3,
   "metadata": {},
   "outputs": [
    {
     "data": {
      "text/plain": [
       "\"2.17.0\""
      ]
     },
     "execution_count": 3,
     "metadata": {},
     "output_type": "execute_result"
    }
   ],
   "source": [
    "piminuit.__version__"
   ]
  },
  {
   "cell_type": "code",
   "execution_count": 41,
   "metadata": {},
   "outputs": [
    {
     "data": {
      "text/plain": [
       "1.0"
      ]
     },
     "execution_count": 41,
     "metadata": {},
     "output_type": "execute_result"
    }
   ],
   "source": [
    "piminuit.Minuit.LEAST_SQUARES"
   ]
  },
  {
   "cell_type": "code",
   "execution_count": 4,
   "metadata": {},
   "outputs": [
    {
     "data": {
      "text/plain": [
       "fcn (generic function with 1 method)"
      ]
     },
     "execution_count": 4,
     "metadata": {},
     "output_type": "execute_result"
    }
   ],
   "source": [
    "fcn(x,y,z)=(x-2)^2+(y-3)^2+(z-5)^2"
   ]
  },
  {
   "cell_type": "code",
   "execution_count": 5,
   "metadata": {},
   "outputs": [
    {
     "data": {
      "text/plain": [
       "gcn (generic function with 1 method)"
      ]
     },
     "execution_count": 5,
     "metadata": {},
     "output_type": "execute_result"
    }
   ],
   "source": [
    "gcn(x,y,z)=ones((3,3))"
   ]
  },
  {
   "cell_type": "code",
   "execution_count": 33,
   "metadata": {},
   "outputs": [
    {
     "data": {
      "text/html": [
       "<table>\n",
       "    <tr>\n",
       "        <td></td>\n",
       "        <th title=\"Variable name\"> Name </th>\n",
       "        <th title=\"Value of parameter\"> Value </th>\n",
       "        <th title=\"Hesse error\"> Hesse Error </th>\n",
       "        <th title=\"Minos lower error\"> Minos Error- </th>\n",
       "        <th title=\"Minos upper error\"> Minos Error+ </th>\n",
       "        <th title=\"Lower limit of the parameter\"> Limit- </th>\n",
       "        <th title=\"Upper limit of the parameter\"> Limit+ </th>\n",
       "        <th title=\"Is the parameter fixed in the fit\"> Fixed </th>\n",
       "    </tr>\n",
       "    <tr>\n",
       "        <th> 0 </th>\n",
       "        <td> x </td>\n",
       "        <td> 0.0 </td>\n",
       "        <td> 0.1 </td>\n",
       "        <td>  </td>\n",
       "        <td>  </td>\n",
       "        <td>  </td>\n",
       "        <td>  </td>\n",
       "        <td>  </td>\n",
       "    </tr>\n",
       "    <tr>\n",
       "        <th> 1 </th>\n",
       "        <td> y </td>\n",
       "        <td> 1.00 </td>\n",
       "        <td> 0.01 </td>\n",
       "        <td>  </td>\n",
       "        <td>  </td>\n",
       "        <td>  </td>\n",
       "        <td>  </td>\n",
       "        <td>  </td>\n",
       "    </tr>\n",
       "    <tr>\n",
       "        <th> 2 </th>\n",
       "        <td> z </td>\n",
       "        <td> 2.00 </td>\n",
       "        <td> 0.02 </td>\n",
       "        <td>  </td>\n",
       "        <td>  </td>\n",
       "        <td>  </td>\n",
       "        <td>  </td>\n",
       "        <td>  </td>\n",
       "    </tr>\n",
       "</table>"
      ],
      "text/plain": [
       "PyObject (Param(number=0, name='x', value=0.0, error=0.1, merror=None, is_const=False, is_fixed=False, lower_limit=None, upper_limit=None), Param(number=1, name='y', value=1.0, error=0.01, merror=None, is_const=False, is_fixed=False, lower_limit=None, upper_limit=None), Param(number=2, name='z', value=2.0, error=0.02, merror=None, is_const=False, is_fixed=False, lower_limit=None, upper_limit=None))"
      ]
     },
     "execution_count": 33,
     "metadata": {},
     "output_type": "execute_result"
    }
   ],
   "source": [
    "# testval=piminuit.Minuit(fcn,0,1,2,grad=gcn,name=[\"x\",\"y\",\"z\"])\n",
    "testval=piminuit.Minuit(fcn,0,1,2,name=[\"x\",\"y\",\"z\"])"
   ]
  },
  {
   "cell_type": "code",
   "execution_count": 44,
   "metadata": {},
   "outputs": [
    {
     "data": {
      "text/html": [
       "<table>\n",
       "    <tr>\n",
       "        <td></td>\n",
       "        <th title=\"Variable name\"> Name </th>\n",
       "        <th title=\"Value of parameter\"> Value </th>\n",
       "        <th title=\"Hesse error\"> Hesse Error </th>\n",
       "        <th title=\"Minos lower error\"> Minos Error- </th>\n",
       "        <th title=\"Minos upper error\"> Minos Error+ </th>\n",
       "        <th title=\"Lower limit of the parameter\"> Limit- </th>\n",
       "        <th title=\"Upper limit of the parameter\"> Limit+ </th>\n",
       "        <th title=\"Is the parameter fixed in the fit\"> Fixed </th>\n",
       "    </tr>\n",
       "    <tr>\n",
       "        <th> 0 </th>\n",
       "        <td> xx </td>\n",
       "        <td> 0.0 </td>\n",
       "        <td> 0.1 </td>\n",
       "        <td>  </td>\n",
       "        <td>  </td>\n",
       "        <td>  </td>\n",
       "        <td>  </td>\n",
       "        <td>  </td>\n",
       "    </tr>\n",
       "    <tr>\n",
       "        <th> 1 </th>\n",
       "        <td> y </td>\n",
       "        <td> 1.00 </td>\n",
       "        <td> 0.01 </td>\n",
       "        <td>  </td>\n",
       "        <td>  </td>\n",
       "        <td>  </td>\n",
       "        <td>  </td>\n",
       "        <td>  </td>\n",
       "    </tr>\n",
       "    <tr>\n",
       "        <th> 2 </th>\n",
       "        <td> z </td>\n",
       "        <td> 2.00 </td>\n",
       "        <td> 0.02 </td>\n",
       "        <td>  </td>\n",
       "        <td>  </td>\n",
       "        <td>  </td>\n",
       "        <td>  </td>\n",
       "        <td>  </td>\n",
       "    </tr>\n",
       "</table>"
      ],
      "text/plain": [
       "PyObject (Param(number=0, name='xx', value=0.0, error=0.1, merror=None, is_const=False, is_fixed=False, lower_limit=None, upper_limit=None), Param(number=1, name='y', value=1.0, error=0.01, merror=None, is_const=False, is_fixed=False, lower_limit=None, upper_limit=None), Param(number=2, name='z', value=2.0, error=0.02, merror=None, is_const=False, is_fixed=False, lower_limit=None, upper_limit=None))"
      ]
     },
     "execution_count": 44,
     "metadata": {},
     "output_type": "execute_result"
    }
   ],
   "source": [
    "testval=piminuit.Minuit(fcn,[0,1,2],name=[\"xx\",\"y\",\"z\"])"
   ]
  },
  {
   "cell_type": "code",
   "execution_count": 34,
   "metadata": {},
   "outputs": [
    {
     "data": {
      "text/html": [
       "<table>\n",
       "    <tr>\n",
       "        <th colspan=\"5\" style=\"text-align:center\" title=\"Minimizer\"> Migrad </th>\n",
       "    </tr>\n",
       "    <tr>\n",
       "        <td colspan=\"2\" style=\"text-align:left\" title=\"Minimum value of function\"> FCN = 2.568e-17 </td>\n",
       "        <td colspan=\"3\" style=\"text-align:center\" title=\"Total number of function and (optional) gradient evaluations\"> Nfcn = 36 </td>\n",
       "    </tr>\n",
       "    <tr>\n",
       "        <td colspan=\"2\" style=\"text-align:left\" title=\"Estimated distance to minimum and goal\"> EDM = 2.57e-17 (Goal: 0.0002) </td>\n",
       "        <td colspan=\"3\" style=\"text-align:center\" title=\"Total run time of algorithms\">  </td>\n",
       "    </tr>\n",
       "    <tr>\n",
       "        <td colspan=\"2\" style=\"text-align:center;background-color:#92CCA6;color:black\"> Valid Minimum </td>\n",
       "        <td colspan=\"3\" style=\"text-align:center;background-color:#92CCA6;color:black\"> No Parameters at limit </td>\n",
       "    </tr>\n",
       "    <tr>\n",
       "        <td colspan=\"2\" style=\"text-align:center;background-color:#92CCA6;color:black\"> Below EDM threshold (goal x 10) </td>\n",
       "        <td colspan=\"3\" style=\"text-align:center;background-color:#92CCA6;color:black\"> Below call limit </td>\n",
       "    </tr>\n",
       "    <tr>\n",
       "        <td style=\"text-align:center;background-color:#92CCA6;color:black\"> Covariance </td>\n",
       "        <td style=\"text-align:center;background-color:#92CCA6;color:black\"> Hesse ok </td>\n",
       "        <td style=\"text-align:center;background-color:#92CCA6;color:black\" title=\"Is covariance matrix accurate?\"> Accurate </td>\n",
       "        <td style=\"text-align:center;background-color:#92CCA6;color:black\" title=\"Is covariance matrix positive definite?\"> Pos. def. </td>\n",
       "        <td style=\"text-align:center;background-color:#92CCA6;color:black\" title=\"Was positive definiteness enforced by Minuit?\"> Not forced </td>\n",
       "    </tr>\n",
       "</table><table>\n",
       "    <tr>\n",
       "        <td></td>\n",
       "        <th title=\"Variable name\"> Name </th>\n",
       "        <th title=\"Value of parameter\"> Value </th>\n",
       "        <th title=\"Hesse error\"> Hesse Error </th>\n",
       "        <th title=\"Minos lower error\"> Minos Error- </th>\n",
       "        <th title=\"Minos upper error\"> Minos Error+ </th>\n",
       "        <th title=\"Lower limit of the parameter\"> Limit- </th>\n",
       "        <th title=\"Upper limit of the parameter\"> Limit+ </th>\n",
       "        <th title=\"Is the parameter fixed in the fit\"> Fixed </th>\n",
       "    </tr>\n",
       "    <tr>\n",
       "        <th> 0 </th>\n",
       "        <td> x </td>\n",
       "        <td> 2 </td>\n",
       "        <td> 1 </td>\n",
       "        <td>  </td>\n",
       "        <td>  </td>\n",
       "        <td>  </td>\n",
       "        <td>  </td>\n",
       "        <td>  </td>\n",
       "    </tr>\n",
       "    <tr>\n",
       "        <th> 1 </th>\n",
       "        <td> y </td>\n",
       "        <td> 3 </td>\n",
       "        <td> 1 </td>\n",
       "        <td>  </td>\n",
       "        <td>  </td>\n",
       "        <td>  </td>\n",
       "        <td>  </td>\n",
       "        <td>  </td>\n",
       "    </tr>\n",
       "    <tr>\n",
       "        <th> 2 </th>\n",
       "        <td> z </td>\n",
       "        <td> 5 </td>\n",
       "        <td> 1 </td>\n",
       "        <td>  </td>\n",
       "        <td>  </td>\n",
       "        <td>  </td>\n",
       "        <td>  </td>\n",
       "        <td>  </td>\n",
       "    </tr>\n",
       "</table><table>\n",
       "    <tr>\n",
       "        <td></td>\n",
       "        <th> x </th>\n",
       "        <th> y </th>\n",
       "        <th> z </th>\n",
       "    </tr>\n",
       "    <tr>\n",
       "        <th> x </th>\n",
       "        <td> 1 </td>\n",
       "        <td style=\"background-color:rgb(250,250,250);color:black\"> 1.11e-16 </td>\n",
       "        <td style=\"background-color:rgb(250,250,250);color:black\"> -5.55e-17 </td>\n",
       "    </tr>\n",
       "    <tr>\n",
       "        <th> y </th>\n",
       "        <td style=\"background-color:rgb(250,250,250);color:black\"> 1.11e-16 </td>\n",
       "        <td> 1 </td>\n",
       "        <td style=\"background-color:rgb(250,250,250);color:black\"> 1.67e-16 </td>\n",
       "    </tr>\n",
       "    <tr>\n",
       "        <th> z </th>\n",
       "        <td style=\"background-color:rgb(250,250,250);color:black\"> -5.55e-17 </td>\n",
       "        <td style=\"background-color:rgb(250,250,250);color:black\"> 1.67e-16 </td>\n",
       "        <td> 1 </td>\n",
       "    </tr>\n",
       "</table>"
      ],
      "text/plain": [
       "PyObject <FMin algorithm='Migrad' edm=2.567889783901509e-17 edm_goal=0.0002 errordef=1.0 fval=2.5678897838941243e-17 has_accurate_covar=True has_covariance=True has_made_posdef_covar=False has_parameters_at_limit=False has_posdef_covar=True has_reached_call_limit=False has_valid_parameters=True hesse_failed=False is_above_max_edm=False is_valid=True nfcn=36 ngrad=0 reduced_chi2=nan time=0.000567749999845546>\n",
       "(Param(number=0, name='x', value=2.0000000000837734, error=0.9999999999998996, merror=None, is_const=False, is_fixed=False, lower_limit=None, upper_limit=None), Param(number=1, name='y', value=3.000000005049296, error=1.0000000000000089, merror=None, is_const=False, is_fixed=False, lower_limit=None, upper_limit=None), Param(number=2, name='z', value=4.999999999579894, error=0.9999999999992497, merror=None, is_const=False, is_fixed=False, lower_limit=None, upper_limit=None))\n",
       "[[ 1.00000000e+00  1.11022319e-16 -5.55111612e-17]\n",
       " [ 1.11022319e-16  1.00000000e+00  1.66533483e-16]\n",
       " [-5.55111612e-17  1.66533483e-16  1.00000000e+00]]"
      ]
     },
     "execution_count": 34,
     "metadata": {},
     "output_type": "execute_result"
    }
   ],
   "source": [
    "pycall(testval.migrad,PyObject)"
   ]
  },
  {
   "cell_type": "code",
   "execution_count": 35,
   "metadata": {},
   "outputs": [
    {
     "data": {
      "text/html": [
       "<table>\n",
       "    <tr>\n",
       "        <th colspan=\"5\" style=\"text-align:center\" title=\"Minimizer\"> Migrad </th>\n",
       "    </tr>\n",
       "    <tr>\n",
       "        <td colspan=\"2\" style=\"text-align:left\" title=\"Minimum value of function\"> FCN = 2.568e-17 </td>\n",
       "        <td colspan=\"3\" style=\"text-align:center\" title=\"Total number of function and (optional) gradient evaluations\"> Nfcn = 52 </td>\n",
       "    </tr>\n",
       "    <tr>\n",
       "        <td colspan=\"2\" style=\"text-align:left\" title=\"Estimated distance to minimum and goal\"> EDM = 2.57e-17 (Goal: 0.0002) </td>\n",
       "        <td colspan=\"3\" style=\"text-align:center\" title=\"Total run time of algorithms\">  </td>\n",
       "    </tr>\n",
       "    <tr>\n",
       "        <td colspan=\"2\" style=\"text-align:center;background-color:#92CCA6;color:black\"> Valid Minimum </td>\n",
       "        <td colspan=\"3\" style=\"text-align:center;background-color:#92CCA6;color:black\"> No Parameters at limit </td>\n",
       "    </tr>\n",
       "    <tr>\n",
       "        <td colspan=\"2\" style=\"text-align:center;background-color:#92CCA6;color:black\"> Below EDM threshold (goal x 10) </td>\n",
       "        <td colspan=\"3\" style=\"text-align:center;background-color:#92CCA6;color:black\"> Below call limit </td>\n",
       "    </tr>\n",
       "    <tr>\n",
       "        <td style=\"text-align:center;background-color:#92CCA6;color:black\"> Covariance </td>\n",
       "        <td style=\"text-align:center;background-color:#92CCA6;color:black\"> Hesse ok </td>\n",
       "        <td style=\"text-align:center;background-color:#92CCA6;color:black\" title=\"Is covariance matrix accurate?\"> Accurate </td>\n",
       "        <td style=\"text-align:center;background-color:#92CCA6;color:black\" title=\"Is covariance matrix positive definite?\"> Pos. def. </td>\n",
       "        <td style=\"text-align:center;background-color:#92CCA6;color:black\" title=\"Was positive definiteness enforced by Minuit?\"> Not forced </td>\n",
       "    </tr>\n",
       "</table><table>\n",
       "    <tr>\n",
       "        <td></td>\n",
       "        <th title=\"Variable name\"> Name </th>\n",
       "        <th title=\"Value of parameter\"> Value </th>\n",
       "        <th title=\"Hesse error\"> Hesse Error </th>\n",
       "        <th title=\"Minos lower error\"> Minos Error- </th>\n",
       "        <th title=\"Minos upper error\"> Minos Error+ </th>\n",
       "        <th title=\"Lower limit of the parameter\"> Limit- </th>\n",
       "        <th title=\"Upper limit of the parameter\"> Limit+ </th>\n",
       "        <th title=\"Is the parameter fixed in the fit\"> Fixed </th>\n",
       "    </tr>\n",
       "    <tr>\n",
       "        <th> 0 </th>\n",
       "        <td> x </td>\n",
       "        <td> 2 </td>\n",
       "        <td> 1 </td>\n",
       "        <td>  </td>\n",
       "        <td>  </td>\n",
       "        <td>  </td>\n",
       "        <td>  </td>\n",
       "        <td>  </td>\n",
       "    </tr>\n",
       "    <tr>\n",
       "        <th> 1 </th>\n",
       "        <td> y </td>\n",
       "        <td> 3 </td>\n",
       "        <td> 1 </td>\n",
       "        <td>  </td>\n",
       "        <td>  </td>\n",
       "        <td>  </td>\n",
       "        <td>  </td>\n",
       "        <td>  </td>\n",
       "    </tr>\n",
       "    <tr>\n",
       "        <th> 2 </th>\n",
       "        <td> z </td>\n",
       "        <td> 5 </td>\n",
       "        <td> 1 </td>\n",
       "        <td>  </td>\n",
       "        <td>  </td>\n",
       "        <td>  </td>\n",
       "        <td>  </td>\n",
       "        <td>  </td>\n",
       "    </tr>\n",
       "</table><table>\n",
       "    <tr>\n",
       "        <td></td>\n",
       "        <th> x </th>\n",
       "        <th> y </th>\n",
       "        <th> z </th>\n",
       "    </tr>\n",
       "    <tr>\n",
       "        <th> x </th>\n",
       "        <td> 1 </td>\n",
       "        <td style=\"background-color:rgb(250,250,250);color:black\"> 7.52e-33 </td>\n",
       "        <td style=\"background-color:rgb(250,250,250);color:black\"> -8.67e-17 </td>\n",
       "    </tr>\n",
       "    <tr>\n",
       "        <th> y </th>\n",
       "        <td style=\"background-color:rgb(250,250,250);color:black\"> 7.52e-33 </td>\n",
       "        <td> 1 </td>\n",
       "        <td style=\"background-color:rgb(250,250,250);color:black\"> -8.67e-17 </td>\n",
       "    </tr>\n",
       "    <tr>\n",
       "        <th> z </th>\n",
       "        <td style=\"background-color:rgb(250,250,250);color:black\"> -8.67e-17 </td>\n",
       "        <td style=\"background-color:rgb(250,250,250);color:black\"> -8.67e-17 </td>\n",
       "        <td> 1 </td>\n",
       "    </tr>\n",
       "</table>"
      ],
      "text/plain": [
       "PyObject <FMin algorithm='Migrad' edm=2.5678897839167363e-17 edm_goal=0.0002 errordef=1.0 fval=2.5678897838941243e-17 has_accurate_covar=True has_covariance=True has_made_posdef_covar=False has_parameters_at_limit=False has_posdef_covar=True has_reached_call_limit=False has_valid_parameters=True hesse_failed=False is_above_max_edm=False is_valid=True nfcn=52 ngrad=0 reduced_chi2=nan time=-0.00025341599985040375>\n",
       "(Param(number=0, name='x', value=2.0000000000837734, error=0.9999999999989903, merror=None, is_const=False, is_fixed=False, lower_limit=None, upper_limit=None), Param(number=1, name='y', value=3.000000005049296, error=0.9999999999990995, merror=None, is_const=False, is_fixed=False, lower_limit=None, upper_limit=None), Param(number=2, name='z', value=4.999999999579894, error=1.000000000001069, merror=None, is_const=False, is_fixed=False, lower_limit=None, upper_limit=None))\n",
       "[[ 1.00000000e+00  7.52316653e-33 -8.67361893e-17]\n",
       " [ 7.52316653e-33  1.00000000e+00 -8.67361892e-17]\n",
       " [-8.67361893e-17 -8.67361892e-17  1.00000000e+00]]"
      ]
     },
     "execution_count": 35,
     "metadata": {},
     "output_type": "execute_result"
    }
   ],
   "source": [
    "pycall(testval.hesse,PyObject)"
   ]
  },
  {
   "cell_type": "code",
   "execution_count": 10,
   "metadata": {},
   "outputs": [
    {
     "data": {
      "text/plain": [
       "(\"x\", \"y\", \"z\")"
      ]
     },
     "execution_count": 10,
     "metadata": {},
     "output_type": "execute_result"
    }
   ],
   "source": [
    "getproperty.(testval.params,:name)"
   ]
  },
  {
   "cell_type": "code",
   "execution_count": 37,
   "metadata": {},
   "outputs": [
    {
     "data": {
      "text/plain": [
       "54-element Vector{Symbol}:\n",
       " :__class__\n",
       " :__delattr__\n",
       " :__dir__\n",
       " :__doc__\n",
       " :__eq__\n",
       " :__format__\n",
       " :__ge__\n",
       " :__getattribute__\n",
       " :__gt__\n",
       " :__hash__\n",
       " :__init__\n",
       " :__init_subclass__\n",
       " :__le__\n",
       " ⋮\n",
       " :has_made_posdef_covar\n",
       " :has_parameters_at_limit\n",
       " :has_posdef_covar\n",
       " :has_reached_call_limit\n",
       " :has_valid_parameters\n",
       " :hesse_failed\n",
       " :is_above_max_edm\n",
       " :is_valid\n",
       " :nfcn\n",
       " :ngrad\n",
       " :reduced_chi2\n",
       " :time"
      ]
     },
     "execution_count": 37,
     "metadata": {},
     "output_type": "execute_result"
    }
   ],
   "source": [
    "keys(testval.fmin)"
   ]
  },
  {
   "cell_type": "code",
   "execution_count": 39,
   "metadata": {},
   "outputs": [
    {
     "data": {
      "text/plain": [
       "2.5678897839167363e-17"
      ]
     },
     "execution_count": 39,
     "metadata": {},
     "output_type": "execute_result"
    }
   ],
   "source": [
    "testval.fmin[:edm]"
   ]
  },
  {
   "cell_type": "code",
   "execution_count": 12,
   "metadata": {},
   "outputs": [
    {
     "data": {
      "text/plain": [
       "(PyObject Param(number=0, name='x', value=0.0, error=0.1, merror=None, is_const=False, is_fixed=False, lower_limit=None, upper_limit=None), PyObject Param(number=1, name='y', value=1.0, error=0.01, merror=None, is_const=False, is_fixed=False, lower_limit=None, upper_limit=None), PyObject Param(number=2, name='z', value=2.0, error=0.02, merror=None, is_const=False, is_fixed=False, lower_limit=None, upper_limit=None))"
      ]
     },
     "execution_count": 12,
     "metadata": {},
     "output_type": "execute_result"
    }
   ],
   "source": [
    "testval.params"
   ]
  },
  {
   "cell_type": "code",
   "execution_count": 15,
   "metadata": {},
   "outputs": [
    {
     "data": {
      "text/plain": [
       "0.1"
      ]
     },
     "execution_count": 15,
     "metadata": {},
     "output_type": "execute_result"
    }
   ],
   "source": [
    "getproperty(testval.params[1],:error)"
   ]
  },
  {
   "cell_type": "code",
   "execution_count": 18,
   "metadata": {},
   "outputs": [],
   "source": [
    "testval.fval"
   ]
  },
  {
   "cell_type": "code",
   "execution_count": 15,
   "metadata": {},
   "outputs": [
    {
     "data": {
      "text/plain": [
       "PyObject <bound method PyCapsule.gradient of <iminuit._core.FCN object at 0x7f9824b7feb0>>"
      ]
     },
     "execution_count": 15,
     "metadata": {},
     "output_type": "execute_result"
    }
   ],
   "source": [
    "testval.grad"
   ]
  },
  {
   "cell_type": "code",
   "execution_count": 17,
   "metadata": {},
   "outputs": [
    {
     "data": {
      "text/plain": [
       "PyObject <built-in function open>"
      ]
     },
     "execution_count": 17,
     "metadata": {},
     "output_type": "execute_result"
    }
   ],
   "source": [
    "pybuiltin(\"open\")"
   ]
  },
  {
   "cell_type": "code",
   "execution_count": 12,
   "metadata": {},
   "outputs": [
    {
     "ename": "LoadError",
     "evalue": "PyError ($(Expr(:escape, :(ccall(#= /home/ql/.julia/packages/PyCall/7a7w0/src/pyfncall.jl:43 =# @pysym(:PyObject_Call), PyPtr, (PyPtr, PyPtr, PyPtr), o, pyargsptr, kw))))) <class 'RuntimeError'>\nRuntimeError('Unable to cast Python instance to C++ type (compile in debug mode for details)')\n",
     "output_type": "error",
     "traceback": [
      "PyError ($(Expr(:escape, :(ccall(#= /home/ql/.julia/packages/PyCall/7a7w0/src/pyfncall.jl:43 =# @pysym(:PyObject_Call), PyPtr, (PyPtr, PyPtr, PyPtr), o, pyargsptr, kw))))) <class 'RuntimeError'>\nRuntimeError('Unable to cast Python instance to C++ type (compile in debug mode for details)')\n",
      "",
      "Stacktrace:",
      "  [1] pyerr_check",
      "    @ ~/.julia/packages/PyCall/7a7w0/src/exception.jl:62 [inlined]",
      "  [2] pyerr_check",
      "    @ ~/.julia/packages/PyCall/7a7w0/src/exception.jl:66 [inlined]",
      "  [3] _handle_error(msg::String)",
      "    @ PyCall ~/.julia/packages/PyCall/7a7w0/src/exception.jl:83",
      "  [4] macro expansion",
      "    @ ~/.julia/packages/PyCall/7a7w0/src/exception.jl:97 [inlined]",
      "  [5] #107",
      "    @ ~/.julia/packages/PyCall/7a7w0/src/pyfncall.jl:43 [inlined]",
      "  [6] disable_sigint",
      "    @ ./c.jl:458 [inlined]",
      "  [7] __pycall!",
      "    @ ~/.julia/packages/PyCall/7a7w0/src/pyfncall.jl:42 [inlined]",
      "  [8] _pycall!(ret::PyObject, o::PyObject, args::Tuple{PyVector{Int64}}, nargs::Int64, kw::Ptr{Nothing})",
      "    @ PyCall ~/.julia/packages/PyCall/7a7w0/src/pyfncall.jl:29",
      "  [9] _pycall!",
      "    @ ~/.julia/packages/PyCall/7a7w0/src/pyfncall.jl:11 [inlined]",
      " [10] #pycall#113",
      "    @ ~/.julia/packages/PyCall/7a7w0/src/pyfncall.jl:83 [inlined]",
      " [11] pycall(o::PyObject, ::Type{PyAny}, args::PyVector{Int64})",
      "    @ PyCall ~/.julia/packages/PyCall/7a7w0/src/pyfncall.jl:83",
      " [12] top-level scope",
      "    @ In[12]:1",
      " [13] eval",
      "    @ ./boot.jl:373 [inlined]",
      " [14] include_string(mapexpr::typeof(REPL.softscope), mod::Module, code::String, filename::String)",
      "    @ Base ./loading.jl:1196"
     ]
    }
   ],
   "source": [
    "pycall(PyObject(gcn),PyAny,PyVector([1,2,3]))"
   ]
  },
  {
   "cell_type": "code",
   "execution_count": 19,
   "metadata": {},
   "outputs": [
    {
     "name": "stdout",
     "output_type": "stream",
     "text": [
      "96-element Vector{Symbol}:\n",
      " :LEAST_SQUARES\n",
      " :LIKELIHOOD\n",
      " :__class__\n",
      " :__delattr__\n",
      " :__dir__\n",
      " :__doc__\n",
      " :__eq__\n",
      " :__format__\n",
      " :__ge__\n",
      " :__getattribute__\n",
      " :__gt__\n",
      " :__hash__\n",
      " :__init__\n",
      " :__init_subclass__\n",
      " :__le__\n",
      " :__lt__\n",
      " :__module__\n",
      " :__ne__\n",
      " :__new__\n",
      " :__reduce__\n",
      " :__reduce_ex__\n",
      " :__repr__\n",
      " :__setattr__\n",
      " :__sizeof__\n",
      " :__slots__\n",
      " :__str__\n",
      " :__subclasshook__\n",
      " :_copy_state_if_needed\n",
      " :_covariance\n",
      " :_draw_profile\n",
      " :_edm_goal\n",
      " :_errors\n",
      " :_fcn\n",
      " :_fixed\n",
      " :_fmin\n",
      " :_fmin_does_not_exist_or_last_state_was_modified\n",
      " :_free_parameters\n",
      " :_init_state\n",
      " :_last_state\n",
      " :_limits\n",
      " :_make_covariance\n",
      " :_merrors\n",
      " :_migrad_maxcall\n",
      " :_mnprecision\n",
      " :_normalize_bound\n",
      " :_pos2var\n",
      " :_precision\n",
      " :_repr_html_\n",
      " :_repr_pretty_\n",
      " :_strategy\n",
      " :_tolerance\n",
      " :_values\n",
      " :_var2pos\n",
      " :accurate\n",
      " :contour\n",
      " :covariance\n",
      " :draw_contour\n",
      " :draw_mncontour\n",
      " :draw_mnprofile\n",
      " :draw_profile\n",
      " :errordef\n",
      " :errors\n",
      " :fcn\n",
      " :fixed\n",
      " :fmin\n",
      " :fval\n",
      " :grad\n",
      " :hesse\n",
      " :init_params\n",
      " :limits\n",
      " :merrors\n",
      " :migrad\n",
      " :minos\n",
      " :mncontour\n",
      " :mnprofile\n",
      " :ndof\n",
      " :nfcn\n",
      " :nfit\n",
      " :ngrad\n",
      " :npar\n",
      " :parameters\n",
      " :params\n",
      " :pos2var\n",
      " :precision\n",
      " :print_level\n",
      " :profile\n",
      " :reset\n",
      " :scan\n",
      " :scipy\n",
      " :simplex\n",
      " :strategy\n",
      " :throw_nan\n",
      " :tol\n",
      " :valid\n",
      " :values\n",
      " :var2pos"
     ]
    }
   ],
   "source": [
    "show(stdout,\"text/plain\",keys(testval))"
   ]
  },
  {
   "cell_type": "code",
   "execution_count": 8,
   "metadata": {},
   "outputs": [
    {
     "name": "stderr",
     "output_type": "stream",
     "text": [
      "sys:1: IMinuitWarning: errordef not set, using 1 (appropriate for least-squares)\n"
     ]
    },
    {
     "data": {
      "text/html": [
       "<table>\n",
       "    <tr>\n",
       "        <th colspan=\"5\" style=\"text-align:center\" title=\"Minimizer\"> Migrad </th>\n",
       "    </tr>\n",
       "    <tr>\n",
       "        <td colspan=\"2\" style=\"text-align:left\" title=\"Minimum value of function\"> FCN = 2.568e-17 </td>\n",
       "        <td colspan=\"3\" style=\"text-align:center\" title=\"Total number of function and (optional) gradient evaluations\"> Nfcn = 36 </td>\n",
       "    </tr>\n",
       "    <tr>\n",
       "        <td colspan=\"2\" style=\"text-align:left\" title=\"Estimated distance to minimum and goal\"> EDM = 2.57e-17 (Goal: 0.0002) </td>\n",
       "        <td colspan=\"3\" style=\"text-align:center\" title=\"Total run time of algorithms\"> time = 0.3 sec </td>\n",
       "    </tr>\n",
       "    <tr>\n",
       "        <td colspan=\"2\" style=\"text-align:center;background-color:#92CCA6;color:black\"> Valid Minimum </td>\n",
       "        <td colspan=\"3\" style=\"text-align:center;background-color:#92CCA6;color:black\"> No Parameters at limit </td>\n",
       "    </tr>\n",
       "    <tr>\n",
       "        <td colspan=\"2\" style=\"text-align:center;background-color:#92CCA6;color:black\"> Below EDM threshold (goal x 10) </td>\n",
       "        <td colspan=\"3\" style=\"text-align:center;background-color:#92CCA6;color:black\"> Below call limit </td>\n",
       "    </tr>\n",
       "    <tr>\n",
       "        <td style=\"text-align:center;background-color:#92CCA6;color:black\"> Covariance </td>\n",
       "        <td style=\"text-align:center;background-color:#92CCA6;color:black\"> Hesse ok </td>\n",
       "        <td style=\"text-align:center;background-color:#92CCA6;color:black\" title=\"Is covariance matrix accurate?\"> Accurate </td>\n",
       "        <td style=\"text-align:center;background-color:#92CCA6;color:black\" title=\"Is covariance matrix positive definite?\"> Pos. def. </td>\n",
       "        <td style=\"text-align:center;background-color:#92CCA6;color:black\" title=\"Was positive definiteness enforced by Minuit?\"> Not forced </td>\n",
       "    </tr>\n",
       "</table><table>\n",
       "    <tr>\n",
       "        <td></td>\n",
       "        <th title=\"Variable name\"> Name </th>\n",
       "        <th title=\"Value of parameter\"> Value </th>\n",
       "        <th title=\"Hesse error\"> Hesse Error </th>\n",
       "        <th title=\"Minos lower error\"> Minos Error- </th>\n",
       "        <th title=\"Minos upper error\"> Minos Error+ </th>\n",
       "        <th title=\"Lower limit of the parameter\"> Limit- </th>\n",
       "        <th title=\"Upper limit of the parameter\"> Limit+ </th>\n",
       "        <th title=\"Is the parameter fixed in the fit\"> Fixed </th>\n",
       "    </tr>\n",
       "    <tr>\n",
       "        <th> 0 </th>\n",
       "        <td> x </td>\n",
       "        <td> 2 </td>\n",
       "        <td> 1 </td>\n",
       "        <td>  </td>\n",
       "        <td>  </td>\n",
       "        <td>  </td>\n",
       "        <td>  </td>\n",
       "        <td>  </td>\n",
       "    </tr>\n",
       "    <tr>\n",
       "        <th> 1 </th>\n",
       "        <td> y </td>\n",
       "        <td> 3 </td>\n",
       "        <td> 1 </td>\n",
       "        <td>  </td>\n",
       "        <td>  </td>\n",
       "        <td>  </td>\n",
       "        <td>  </td>\n",
       "        <td>  </td>\n",
       "    </tr>\n",
       "    <tr>\n",
       "        <th> 2 </th>\n",
       "        <td> z </td>\n",
       "        <td> 5 </td>\n",
       "        <td> 1 </td>\n",
       "        <td>  </td>\n",
       "        <td>  </td>\n",
       "        <td>  </td>\n",
       "        <td>  </td>\n",
       "        <td>  </td>\n",
       "    </tr>\n",
       "</table><table>\n",
       "    <tr>\n",
       "        <td></td>\n",
       "        <th> x </th>\n",
       "        <th> y </th>\n",
       "        <th> z </th>\n",
       "    </tr>\n",
       "    <tr>\n",
       "        <th> x </th>\n",
       "        <td> 1 </td>\n",
       "        <td style=\"background-color:rgb(250,250,250);color:black\"> 1.11e-16 </td>\n",
       "        <td style=\"background-color:rgb(250,250,250);color:black\"> -5.55e-17 </td>\n",
       "    </tr>\n",
       "    <tr>\n",
       "        <th> y </th>\n",
       "        <td style=\"background-color:rgb(250,250,250);color:black\"> 1.11e-16 </td>\n",
       "        <td> 1 </td>\n",
       "        <td style=\"background-color:rgb(250,250,250);color:black\"> 1.67e-16 </td>\n",
       "    </tr>\n",
       "    <tr>\n",
       "        <th> z </th>\n",
       "        <td style=\"background-color:rgb(250,250,250);color:black\"> -5.55e-17 </td>\n",
       "        <td style=\"background-color:rgb(250,250,250);color:black\"> 1.67e-16 </td>\n",
       "        <td> 1 </td>\n",
       "    </tr>\n",
       "</table>"
      ],
      "text/plain": [
       "PyObject <FMin algorithm='Migrad' edm=2.567889783901509e-17 edm_goal=0.0002 errordef=1.0 fval=2.5678897838941243e-17 has_accurate_covar=True has_covariance=True has_made_posdef_covar=False has_parameters_at_limit=False has_posdef_covar=True has_reached_call_limit=False has_valid_parameters=True hesse_failed=False is_above_max_edm=False is_valid=True nfcn=36 ngrad=0 reduced_chi2=nan time=0.26521568199999024>\n",
       "(Param(number=0, name='x', value=2.0000000000837734, error=0.9999999999998996, merror=None, is_const=False, is_fixed=False, lower_limit=None, upper_limit=None), Param(number=1, name='y', value=3.000000005049296, error=1.0000000000000089, merror=None, is_const=False, is_fixed=False, lower_limit=None, upper_limit=None), Param(number=2, name='z', value=4.999999999579894, error=0.9999999999992497, merror=None, is_const=False, is_fixed=False, lower_limit=None, upper_limit=None))\n",
       "[[ 1.00000000e+00  1.11022319e-16 -5.55111612e-17]\n",
       " [ 1.11022319e-16  1.00000000e+00  1.66533483e-16]\n",
       " [-5.55111612e-17  1.66533483e-16  1.00000000e+00]]"
      ]
     },
     "execution_count": 8,
     "metadata": {},
     "output_type": "execute_result"
    }
   ],
   "source": [
    "piminuit.Minuit.migrad(piminuit.Minuit(fcn,x=0,y=1,z=2))"
   ]
  },
  {
   "cell_type": "code",
   "execution_count": 9,
   "metadata": {},
   "outputs": [
    {
     "name": "stderr",
     "output_type": "stream",
     "text": [
      "/home/ql/.local/lib/python3.10/site-packages/iminuit/minuit.py:1969: IMinuitWarning: errordef not set, using 1 (appropriate for least-squares)\n",
      "  self.tol * self.errordef, self._mnprecision().eps2  # type:ignore\n"
     ]
    },
    {
     "data": {
      "text/html": [
       "<table>\n",
       "    <tr>\n",
       "        <th colspan=\"5\" style=\"text-align:center\" title=\"Minimizer\"> External </th>\n",
       "    </tr>\n",
       "    <tr>\n",
       "        <td colspan=\"2\" style=\"text-align:left\" title=\"Minimum value of function\"> FCN = 17 </td>\n",
       "        <td colspan=\"3\" style=\"text-align:center\" title=\"Total number of function and (optional) gradient evaluations\"> Nfcn = 24 </td>\n",
       "    </tr>\n",
       "    <tr>\n",
       "        <td colspan=\"2\" style=\"text-align:left\" title=\"Estimated distance to minimum and goal\"> EDM = 17 (Goal: 0.0002) </td>\n",
       "        <td colspan=\"3\" style=\"text-align:center\" title=\"Total run time of algorithms\">  </td>\n",
       "    </tr>\n",
       "    <tr>\n",
       "        <td colspan=\"2\" style=\"text-align:center;background-color:#c15ef7;color:black\"> INVALID Minimum </td>\n",
       "        <td colspan=\"3\" style=\"text-align:center;background-color:#92CCA6;color:black\"> No Parameters at limit </td>\n",
       "    </tr>\n",
       "    <tr>\n",
       "        <td colspan=\"2\" style=\"text-align:center;background-color:#c15ef7;color:black\"> ABOVE EDM threshold (goal x 10) </td>\n",
       "        <td colspan=\"3\" style=\"text-align:center;background-color:#92CCA6;color:black\"> Below call limit </td>\n",
       "    </tr>\n",
       "    <tr>\n",
       "        <td style=\"text-align:center;background-color:#92CCA6;color:black\"> Covariance </td>\n",
       "        <td style=\"text-align:center;background-color:#c15ef7;color:black\"> Hesse FAILED </td>\n",
       "        <td style=\"text-align:center;background-color:#FFF79A;color:black\" title=\"Is covariance matrix accurate?\"> APPROXIMATE </td>\n",
       "        <td style=\"text-align:center;background-color:#c15ef7;color:black\" title=\"Is covariance matrix positive definite?\"> NOT pos. def. </td>\n",
       "        <td style=\"text-align:center;background-color:#92CCA6;color:black\" title=\"Was positive definiteness enforced by Minuit?\"> Not forced </td>\n",
       "    </tr>\n",
       "</table><table>\n",
       "    <tr>\n",
       "        <td></td>\n",
       "        <th title=\"Variable name\"> Name </th>\n",
       "        <th title=\"Value of parameter\"> Value </th>\n",
       "        <th title=\"Hesse error\"> Hesse Error </th>\n",
       "        <th title=\"Minos lower error\"> Minos Error- </th>\n",
       "        <th title=\"Minos upper error\"> Minos Error+ </th>\n",
       "        <th title=\"Lower limit of the parameter\"> Limit- </th>\n",
       "        <th title=\"Upper limit of the parameter\"> Limit+ </th>\n",
       "        <th title=\"Is the parameter fixed in the fit\"> Fixed </th>\n",
       "    </tr>\n",
       "    <tr>\n",
       "        <th> 0 </th>\n",
       "        <td> x </td>\n",
       "        <td> 0 </td>\n",
       "        <td> 1 </td>\n",
       "        <td>  </td>\n",
       "        <td>  </td>\n",
       "        <td>  </td>\n",
       "        <td>  </td>\n",
       "        <td>  </td>\n",
       "    </tr>\n",
       "    <tr>\n",
       "        <th> 1 </th>\n",
       "        <td> y </td>\n",
       "        <td> 1 </td>\n",
       "        <td> 1 </td>\n",
       "        <td>  </td>\n",
       "        <td>  </td>\n",
       "        <td>  </td>\n",
       "        <td>  </td>\n",
       "        <td>  </td>\n",
       "    </tr>\n",
       "    <tr>\n",
       "        <th> 2 </th>\n",
       "        <td> z </td>\n",
       "        <td> 2 </td>\n",
       "        <td> 1 </td>\n",
       "        <td>  </td>\n",
       "        <td>  </td>\n",
       "        <td>  </td>\n",
       "        <td>  </td>\n",
       "        <td>  </td>\n",
       "    </tr>\n",
       "</table>"
      ],
      "text/plain": [
       "PyObject <FMin algorithm='External' edm=17.000000009004115 edm_goal=0.0002 errordef=1.0 fval=17.0 has_accurate_covar=False has_covariance=True has_made_posdef_covar=False has_parameters_at_limit=False has_posdef_covar=False has_reached_call_limit=False has_valid_parameters=False hesse_failed=True is_above_max_edm=True is_valid=False nfcn=24 ngrad=0 reduced_chi2=nan time=0.0001370120000103725>\n",
       "(Param(number=0, name='x', value=0.0, error=1.0000000000208096, merror=None, is_const=False, is_fixed=False, lower_limit=None, upper_limit=None), Param(number=1, name='y', value=1.0, error=1.0000000012623795, merror=None, is_const=False, is_fixed=False, lower_limit=None, upper_limit=None), Param(number=2, name='z', value=2.0, error=0.9999999999301119, merror=None, is_const=False, is_fixed=False, lower_limit=None, upper_limit=None))"
      ]
     },
     "execution_count": 9,
     "metadata": {},
     "output_type": "execute_result"
    }
   ],
   "source": [
    "piminuit.Minuit.hesse(piminuit.Minuit(fcn,x=0,y=1,z=2))"
   ]
  },
  {
   "cell_type": "code",
   "execution_count": 10,
   "metadata": {},
   "outputs": [
    {
     "data": {
      "text/html": [
       "<table>\n",
       "    <tr>\n",
       "        <th colspan=\"5\" style=\"text-align:center\" title=\"Minimizer\"> Scan </th>\n",
       "    </tr>\n",
       "    <tr>\n",
       "        <td colspan=\"2\" style=\"text-align:left\" title=\"Minimum value of function\"> FCN = 16.45 </td>\n",
       "        <td colspan=\"3\" style=\"text-align:center\" title=\"Total number of function and (optional) gradient evaluations\"> Nfcn = 525 </td>\n",
       "    </tr>\n",
       "    <tr>\n",
       "        <td colspan=\"2\" style=\"text-align:left\" title=\"Estimated distance to minimum and goal\"> EDM = 16.5 (Goal: 0.1) </td>\n",
       "        <td colspan=\"3\" style=\"text-align:center\" title=\"Total run time of algorithms\">  </td>\n",
       "    </tr>\n",
       "    <tr>\n",
       "        <td colspan=\"2\" style=\"text-align:center;background-color:#c15ef7;color:black\"> INVALID Minimum </td>\n",
       "        <td colspan=\"3\" style=\"text-align:center;background-color:#92CCA6;color:black\"> No Parameters at limit </td>\n",
       "    </tr>\n",
       "    <tr>\n",
       "        <td colspan=\"2\" style=\"text-align:center;background-color:#c15ef7;color:black\"> ABOVE EDM threshold (goal x 10) </td>\n",
       "        <td colspan=\"3\" style=\"text-align:center;background-color:#92CCA6;color:black\"> Below call limit </td>\n",
       "    </tr>\n",
       "    <tr>\n",
       "        <td style=\"text-align:center;background-color:#FFF79A;color:black\"> NO Covariance </td>\n",
       "        <td style=\"text-align:center;background-color:#92CCA6;color:black\"> Hesse ok </td>\n",
       "        <td style=\"text-align:center;background-color:#FFF79A;color:black\" title=\"Is covariance matrix accurate?\"> APPROXIMATE </td>\n",
       "        <td style=\"text-align:center;background-color:#c15ef7;color:black\" title=\"Is covariance matrix positive definite?\"> NOT pos. def. </td>\n",
       "        <td style=\"text-align:center;background-color:#92CCA6;color:black\" title=\"Was positive definiteness enforced by Minuit?\"> Not forced </td>\n",
       "    </tr>\n",
       "</table><table>\n",
       "    <tr>\n",
       "        <td></td>\n",
       "        <th title=\"Variable name\"> Name </th>\n",
       "        <th title=\"Value of parameter\"> Value </th>\n",
       "        <th title=\"Hesse error\"> Hesse Error </th>\n",
       "        <th title=\"Minos lower error\"> Minos Error- </th>\n",
       "        <th title=\"Minos upper error\"> Minos Error+ </th>\n",
       "        <th title=\"Lower limit of the parameter\"> Limit- </th>\n",
       "        <th title=\"Upper limit of the parameter\"> Limit+ </th>\n",
       "        <th title=\"Is the parameter fixed in the fit\"> Fixed </th>\n",
       "    </tr>\n",
       "    <tr>\n",
       "        <th> 0 </th>\n",
       "        <td> x </td>\n",
       "        <td> 0.1 </td>\n",
       "        <td> 1.0 </td>\n",
       "        <td>  </td>\n",
       "        <td>  </td>\n",
       "        <td>  </td>\n",
       "        <td>  </td>\n",
       "        <td>  </td>\n",
       "    </tr>\n",
       "    <tr>\n",
       "        <th> 1 </th>\n",
       "        <td> y </td>\n",
       "        <td> 1 </td>\n",
       "        <td> 1 </td>\n",
       "        <td>  </td>\n",
       "        <td>  </td>\n",
       "        <td>  </td>\n",
       "        <td>  </td>\n",
       "        <td>  </td>\n",
       "    </tr>\n",
       "    <tr>\n",
       "        <th> 2 </th>\n",
       "        <td> z </td>\n",
       "        <td> 2 </td>\n",
       "        <td> 1 </td>\n",
       "        <td>  </td>\n",
       "        <td>  </td>\n",
       "        <td>  </td>\n",
       "        <td>  </td>\n",
       "        <td>  </td>\n",
       "    </tr>\n",
       "</table>"
      ],
      "text/plain": [
       "PyObject <FMin algorithm='Scan' edm=16.45049998356083 edm_goal=0.1 errordef=1.0 fval=16.450499999999998 has_accurate_covar=False has_covariance=False has_made_posdef_covar=False has_parameters_at_limit=False has_posdef_covar=False has_reached_call_limit=False has_valid_parameters=False hesse_failed=False is_above_max_edm=True is_valid=False nfcn=525 ngrad=0 reduced_chi2=nan time=0.013176440000023604>\n",
       "(Param(number=0, name='x', value=0.1, error=0.9999999995504671, merror=None, is_const=False, is_fixed=False, lower_limit=None, upper_limit=None), Param(number=1, name='y', value=1.01, error=0.9999999994860227, merror=None, is_const=False, is_fixed=False, lower_limit=None, upper_limit=None), Param(number=2, name='z', value=2.02, error=0.9999999994860227, merror=None, is_const=False, is_fixed=False, lower_limit=None, upper_limit=None))"
      ]
     },
     "execution_count": 10,
     "metadata": {},
     "output_type": "execute_result"
    }
   ],
   "source": [
    "piminuit.Minuit.scan(piminuit.Minuit(fcn,x=0,y=1,z=2))"
   ]
  },
  {
   "cell_type": "code",
   "execution_count": 11,
   "metadata": {},
   "outputs": [
    {
     "data": {
      "text/html": [
       "<table>\n",
       "    <tr>\n",
       "        <th colspan=\"5\" style=\"text-align:center\" title=\"Minimizer\"> Simplex </th>\n",
       "    </tr>\n",
       "    <tr>\n",
       "        <td colspan=\"2\" style=\"text-align:left\" title=\"Minimum value of function\"> FCN = 6.677 </td>\n",
       "        <td colspan=\"3\" style=\"text-align:center\" title=\"Total number of function and (optional) gradient evaluations\"> Nfcn = 44 </td>\n",
       "    </tr>\n",
       "    <tr>\n",
       "        <td colspan=\"2\" style=\"text-align:left\" title=\"Estimated distance to minimum and goal\"> EDM = 0.0425 (Goal: 0.1) </td>\n",
       "        <td colspan=\"3\" style=\"text-align:center\" title=\"Total run time of algorithms\">  </td>\n",
       "    </tr>\n",
       "    <tr>\n",
       "        <td colspan=\"2\" style=\"text-align:center;background-color:#92CCA6;color:black\"> Valid Minimum </td>\n",
       "        <td colspan=\"3\" style=\"text-align:center;background-color:#92CCA6;color:black\"> No Parameters at limit </td>\n",
       "    </tr>\n",
       "    <tr>\n",
       "        <td colspan=\"2\" style=\"text-align:center;background-color:#92CCA6;color:black\"> Below EDM threshold (goal x 10) </td>\n",
       "        <td colspan=\"3\" style=\"text-align:center;background-color:#92CCA6;color:black\"> Below call limit </td>\n",
       "    </tr>\n",
       "    <tr>\n",
       "        <td style=\"text-align:center;background-color:#FFF79A;color:black\"> NO Covariance </td>\n",
       "        <td style=\"text-align:center;background-color:#92CCA6;color:black\"> Hesse ok </td>\n",
       "        <td style=\"text-align:center;background-color:#FFF79A;color:black\" title=\"Is covariance matrix accurate?\"> APPROXIMATE </td>\n",
       "        <td style=\"text-align:center;background-color:#c15ef7;color:black\" title=\"Is covariance matrix positive definite?\"> NOT pos. def. </td>\n",
       "        <td style=\"text-align:center;background-color:#92CCA6;color:black\" title=\"Was positive definiteness enforced by Minuit?\"> Not forced </td>\n",
       "    </tr>\n",
       "</table><table>\n",
       "    <tr>\n",
       "        <td></td>\n",
       "        <th title=\"Variable name\"> Name </th>\n",
       "        <th title=\"Value of parameter\"> Value </th>\n",
       "        <th title=\"Hesse error\"> Hesse Error </th>\n",
       "        <th title=\"Minos lower error\"> Minos Error- </th>\n",
       "        <th title=\"Minos upper error\"> Minos Error+ </th>\n",
       "        <th title=\"Lower limit of the parameter\"> Limit- </th>\n",
       "        <th title=\"Upper limit of the parameter\"> Limit+ </th>\n",
       "        <th title=\"Is the parameter fixed in the fit\"> Fixed </th>\n",
       "    </tr>\n",
       "    <tr>\n",
       "        <th> 0 </th>\n",
       "        <td> x </td>\n",
       "        <td> 1.7 </td>\n",
       "        <td> 0.7 </td>\n",
       "        <td>  </td>\n",
       "        <td>  </td>\n",
       "        <td>  </td>\n",
       "        <td>  </td>\n",
       "        <td>  </td>\n",
       "    </tr>\n",
       "    <tr>\n",
       "        <th> 1 </th>\n",
       "        <td> y </td>\n",
       "        <td> 0.46 </td>\n",
       "        <td> 0.19 </td>\n",
       "        <td>  </td>\n",
       "        <td>  </td>\n",
       "        <td>  </td>\n",
       "        <td>  </td>\n",
       "        <td>  </td>\n",
       "    </tr>\n",
       "    <tr>\n",
       "        <th> 2 </th>\n",
       "        <td> z </td>\n",
       "        <td> 4.7 </td>\n",
       "        <td> 1.9 </td>\n",
       "        <td>  </td>\n",
       "        <td>  </td>\n",
       "        <td>  </td>\n",
       "        <td>  </td>\n",
       "        <td>  </td>\n",
       "    </tr>\n",
       "</table>"
      ],
      "text/plain": [
       "PyObject <FMin algorithm='Simplex' edm=0.042468638128554836 edm_goal=0.1 errordef=1.0 fval=6.676956489701631 has_accurate_covar=False has_covariance=False has_made_posdef_covar=False has_parameters_at_limit=False has_posdef_covar=False has_reached_call_limit=False has_valid_parameters=True hesse_failed=False is_above_max_edm=False is_valid=True nfcn=44 ngrad=0 reduced_chi2=nan time=0.0008473979999905623>\n",
       "(Param(number=0, name='x', value=1.6582642921343433, error=0.6981143769991367, merror=None, is_const=False, is_fixed=False, lower_limit=None, upper_limit=None), Param(number=1, name='y', value=0.4621863223507472, error=0.19242074639407622, merror=None, is_const=False, is_fixed=False, lower_limit=None, upper_limit=None), Param(number=2, name='z', value=4.654059350166011, error=1.907451941280963, merror=None, is_const=False, is_fixed=False, lower_limit=None, upper_limit=None))"
      ]
     },
     "execution_count": 11,
     "metadata": {},
     "output_type": "execute_result"
    }
   ],
   "source": [
    "piminuit.Minuit.simplex(piminuit.Minuit(fcn,x=0,y=1,z=2))"
   ]
  },
  {
   "cell_type": "code",
   "execution_count": 13,
   "metadata": {},
   "outputs": [
    {
     "data": {
      "text/html": [
       "<table>\n",
       "    <tr>\n",
       "        <td></td>\n",
       "        <th title=\"Variable name\"> Name </th>\n",
       "        <th title=\"Value of parameter\"> Value </th>\n",
       "        <th title=\"Hesse error\"> Hesse Error </th>\n",
       "        <th title=\"Minos lower error\"> Minos Error- </th>\n",
       "        <th title=\"Minos upper error\"> Minos Error+ </th>\n",
       "        <th title=\"Lower limit of the parameter\"> Limit- </th>\n",
       "        <th title=\"Upper limit of the parameter\"> Limit+ </th>\n",
       "        <th title=\"Is the parameter fixed in the fit\"> Fixed </th>\n",
       "    </tr>\n",
       "    <tr>\n",
       "        <th> 0 </th>\n",
       "        <td> x </td>\n",
       "        <td> 0.0 </td>\n",
       "        <td> 0.1 </td>\n",
       "        <td>  </td>\n",
       "        <td>  </td>\n",
       "        <td>  </td>\n",
       "        <td>  </td>\n",
       "        <td>  </td>\n",
       "    </tr>\n",
       "    <tr>\n",
       "        <th> 1 </th>\n",
       "        <td> y </td>\n",
       "        <td> 1.00 </td>\n",
       "        <td> 0.01 </td>\n",
       "        <td>  </td>\n",
       "        <td>  </td>\n",
       "        <td>  </td>\n",
       "        <td>  </td>\n",
       "        <td>  </td>\n",
       "    </tr>\n",
       "    <tr>\n",
       "        <th> 2 </th>\n",
       "        <td> z </td>\n",
       "        <td> 2.00 </td>\n",
       "        <td> 0.02 </td>\n",
       "        <td>  </td>\n",
       "        <td>  </td>\n",
       "        <td>  </td>\n",
       "        <td>  </td>\n",
       "        <td>  </td>\n",
       "    </tr>\n",
       "</table>"
      ],
      "text/plain": [
       "PyObject (Param(number=0, name='x', value=0.0, error=0.1, merror=None, is_const=False, is_fixed=False, lower_limit=None, upper_limit=None), Param(number=1, name='y', value=1.0, error=0.01, merror=None, is_const=False, is_fixed=False, lower_limit=None, upper_limit=None), Param(number=2, name='z', value=2.0, error=0.02, merror=None, is_const=False, is_fixed=False, lower_limit=None, upper_limit=None))"
      ]
     },
     "execution_count": 13,
     "metadata": {},
     "output_type": "execute_result"
    }
   ],
   "source": [
    "model=piminuit.Minuit(fcn,x=0,y=1,z=2,name=(\"x\", \"y\",\"z\"))"
   ]
  },
  {
   "cell_type": "code",
   "execution_count": 18,
   "metadata": {},
   "outputs": [
    {
     "data": {
      "text/plain": [
       "(PyObject Param(number=0, name='x', value=0.0, error=0.1, merror=None, is_const=False, is_fixed=False, lower_limit=None, upper_limit=None), PyObject Param(number=1, name='y', value=1.0, error=0.01, merror=None, is_const=False, is_fixed=False, lower_limit=None, upper_limit=None), PyObject Param(number=2, name='z', value=2.0, error=0.02, merror=None, is_const=False, is_fixed=False, lower_limit=None, upper_limit=None))"
      ]
     },
     "execution_count": 18,
     "metadata": {},
     "output_type": "execute_result"
    }
   ],
   "source": [
    "model.params"
   ]
  },
  {
   "cell_type": "code",
   "execution_count": 26,
   "metadata": {},
   "outputs": [
    {
     "data": {
      "text/plain": [
       "PyObject <FixedView x=False y=False z=False>"
      ]
     },
     "execution_count": 26,
     "metadata": {},
     "output_type": "execute_result"
    }
   ],
   "source": [
    "model.fixed"
   ]
  },
  {
   "cell_type": "code",
   "execution_count": 25,
   "metadata": {},
   "outputs": [
    {
     "data": {
      "text/plain": [
       "PyObject <LimitView x=(-10.0, 10.0) y=(-inf, inf) z=(-inf, inf)>"
      ]
     },
     "execution_count": 25,
     "metadata": {},
     "output_type": "execute_result"
    }
   ],
   "source": [
    "model.limits"
   ]
  },
  {
   "cell_type": "code",
   "execution_count": 23,
   "metadata": {},
   "outputs": [
    {
     "data": {
      "text/plain": [
       "(-Inf, Inf)"
      ]
     },
     "execution_count": 23,
     "metadata": {},
     "output_type": "execute_result"
    }
   ],
   "source": [
    "get(model.limits,\"x\")"
   ]
  },
  {
   "cell_type": "code",
   "execution_count": 24,
   "metadata": {},
   "outputs": [
    {
     "data": {
      "text/plain": [
       "(-10, 10)"
      ]
     },
     "execution_count": 24,
     "metadata": {},
     "output_type": "execute_result"
    }
   ],
   "source": [
    "set!(model.limits,\"x\",(-10,10))"
   ]
  },
  {
   "cell_type": "code",
   "execution_count": 16,
   "metadata": {},
   "outputs": [
    {
     "data": {
      "text/plain": [
       "39-element Vector{Symbol}:\n",
       " :Key\n",
       " :__abstractmethods__\n",
       " :__class__\n",
       " :__delattr__\n",
       " :__dict__\n",
       " :__dir__\n",
       " :__doc__\n",
       " :__eq__\n",
       " :__format__\n",
       " :__ge__\n",
       " :__getattribute__\n",
       " :__getitem__\n",
       " :__gt__\n",
       " ⋮\n",
       " :__setitem__\n",
       " :__sizeof__\n",
       " :__slots__\n",
       " :__str__\n",
       " :__subclasshook__\n",
       " :__weakref__\n",
       " :_abc_impl\n",
       " :_get\n",
       " :_minuit\n",
       " :_ndim\n",
       " :_set\n",
       " :to_dict"
      ]
     },
     "execution_count": 16,
     "metadata": {},
     "output_type": "execute_result"
    }
   ],
   "source": [
    "keys(model.\"limits\")"
   ]
  },
  {
   "cell_type": "code",
   "execution_count": 34,
   "metadata": {},
   "outputs": [
    {
     "data": {
      "text/plain": [
       "PyObject Ptr{PyCall.PyObject_struct} @0x00007f0b44bc12c0"
      ]
     },
     "execution_count": 34,
     "metadata": {},
     "output_type": "execute_result"
    }
   ],
   "source": [
    "piminuit.util.LimitView((-10,10))"
   ]
  },
  {
   "cell_type": "code",
   "execution_count": 13,
   "metadata": {},
   "outputs": [
    {
     "data": {
      "text/html": [
       "<table>\n",
       "    <tr>\n",
       "        <th colspan=\"5\" style=\"text-align:center\" title=\"Minimizer\"> Migrad </th>\n",
       "    </tr>\n",
       "    <tr>\n",
       "        <td colspan=\"2\" style=\"text-align:left\" title=\"Minimum value of function\"> FCN = 2.568e-17 </td>\n",
       "        <td colspan=\"3\" style=\"text-align:center\" title=\"Total number of function and (optional) gradient evaluations\"> Nfcn = 36 </td>\n",
       "    </tr>\n",
       "    <tr>\n",
       "        <td colspan=\"2\" style=\"text-align:left\" title=\"Estimated distance to minimum and goal\"> EDM = 2.57e-17 (Goal: 0.0002) </td>\n",
       "        <td colspan=\"3\" style=\"text-align:center\" title=\"Total run time of algorithms\">  </td>\n",
       "    </tr>\n",
       "    <tr>\n",
       "        <td colspan=\"2\" style=\"text-align:center;background-color:#92CCA6;color:black\"> Valid Minimum </td>\n",
       "        <td colspan=\"3\" style=\"text-align:center;background-color:#92CCA6;color:black\"> No Parameters at limit </td>\n",
       "    </tr>\n",
       "    <tr>\n",
       "        <td colspan=\"2\" style=\"text-align:center;background-color:#92CCA6;color:black\"> Below EDM threshold (goal x 10) </td>\n",
       "        <td colspan=\"3\" style=\"text-align:center;background-color:#92CCA6;color:black\"> Below call limit </td>\n",
       "    </tr>\n",
       "    <tr>\n",
       "        <td style=\"text-align:center;background-color:#92CCA6;color:black\"> Covariance </td>\n",
       "        <td style=\"text-align:center;background-color:#92CCA6;color:black\"> Hesse ok </td>\n",
       "        <td style=\"text-align:center;background-color:#92CCA6;color:black\" title=\"Is covariance matrix accurate?\"> Accurate </td>\n",
       "        <td style=\"text-align:center;background-color:#92CCA6;color:black\" title=\"Is covariance matrix positive definite?\"> Pos. def. </td>\n",
       "        <td style=\"text-align:center;background-color:#92CCA6;color:black\" title=\"Was positive definiteness enforced by Minuit?\"> Not forced </td>\n",
       "    </tr>\n",
       "</table><table>\n",
       "    <tr>\n",
       "        <td></td>\n",
       "        <th title=\"Variable name\"> Name </th>\n",
       "        <th title=\"Value of parameter\"> Value </th>\n",
       "        <th title=\"Hesse error\"> Hesse Error </th>\n",
       "        <th title=\"Minos lower error\"> Minos Error- </th>\n",
       "        <th title=\"Minos upper error\"> Minos Error+ </th>\n",
       "        <th title=\"Lower limit of the parameter\"> Limit- </th>\n",
       "        <th title=\"Upper limit of the parameter\"> Limit+ </th>\n",
       "        <th title=\"Is the parameter fixed in the fit\"> Fixed </th>\n",
       "    </tr>\n",
       "    <tr>\n",
       "        <th> 0 </th>\n",
       "        <td> x </td>\n",
       "        <td> 2 </td>\n",
       "        <td> 1 </td>\n",
       "        <td>  </td>\n",
       "        <td>  </td>\n",
       "        <td>  </td>\n",
       "        <td>  </td>\n",
       "        <td>  </td>\n",
       "    </tr>\n",
       "    <tr>\n",
       "        <th> 1 </th>\n",
       "        <td> y </td>\n",
       "        <td> 3 </td>\n",
       "        <td> 1 </td>\n",
       "        <td>  </td>\n",
       "        <td>  </td>\n",
       "        <td>  </td>\n",
       "        <td>  </td>\n",
       "        <td>  </td>\n",
       "    </tr>\n",
       "    <tr>\n",
       "        <th> 2 </th>\n",
       "        <td> z </td>\n",
       "        <td> 5 </td>\n",
       "        <td> 1 </td>\n",
       "        <td>  </td>\n",
       "        <td>  </td>\n",
       "        <td>  </td>\n",
       "        <td>  </td>\n",
       "        <td>  </td>\n",
       "    </tr>\n",
       "</table><table>\n",
       "    <tr>\n",
       "        <td></td>\n",
       "        <th> x </th>\n",
       "        <th> y </th>\n",
       "        <th> z </th>\n",
       "    </tr>\n",
       "    <tr>\n",
       "        <th> x </th>\n",
       "        <td> 1 </td>\n",
       "        <td style=\"background-color:rgb(250,250,250);color:black\"> 1.11e-16 </td>\n",
       "        <td style=\"background-color:rgb(250,250,250);color:black\"> -5.55e-17 </td>\n",
       "    </tr>\n",
       "    <tr>\n",
       "        <th> y </th>\n",
       "        <td style=\"background-color:rgb(250,250,250);color:black\"> 1.11e-16 </td>\n",
       "        <td> 1 </td>\n",
       "        <td style=\"background-color:rgb(250,250,250);color:black\"> 1.67e-16 </td>\n",
       "    </tr>\n",
       "    <tr>\n",
       "        <th> z </th>\n",
       "        <td style=\"background-color:rgb(250,250,250);color:black\"> -5.55e-17 </td>\n",
       "        <td style=\"background-color:rgb(250,250,250);color:black\"> 1.67e-16 </td>\n",
       "        <td> 1 </td>\n",
       "    </tr>\n",
       "</table>"
      ],
      "text/plain": [
       "PyObject <FMin algorithm='Migrad' edm=2.567889783901509e-17 edm_goal=0.0002 errordef=1.0 fval=2.5678897838941243e-17 has_accurate_covar=True has_covariance=True has_made_posdef_covar=False has_parameters_at_limit=False has_posdef_covar=True has_reached_call_limit=False has_valid_parameters=True hesse_failed=False is_above_max_edm=False is_valid=True nfcn=36 ngrad=0 reduced_chi2=nan time=0.00042321100045228377>\n",
       "(Param(number=0, name='x', value=2.0000000000837734, error=0.9999999999998996, merror=None, is_const=False, is_fixed=False, lower_limit=None, upper_limit=None), Param(number=1, name='y', value=3.000000005049296, error=1.0000000000000089, merror=None, is_const=False, is_fixed=False, lower_limit=None, upper_limit=None), Param(number=2, name='z', value=4.999999999579894, error=0.9999999999992497, merror=None, is_const=False, is_fixed=False, lower_limit=None, upper_limit=None))\n",
       "[[ 1.00000000e+00  1.11022319e-16 -5.55111612e-17]\n",
       " [ 1.11022319e-16  1.00000000e+00  1.66533483e-16]\n",
       " [-5.55111612e-17  1.66533483e-16  1.00000000e+00]]"
      ]
     },
     "execution_count": 13,
     "metadata": {},
     "output_type": "execute_result"
    }
   ],
   "source": [
    "piminuit.Minuit.migrad(model)"
   ]
  },
  {
   "cell_type": "code",
   "execution_count": 14,
   "metadata": {},
   "outputs": [
    {
     "data": {
      "text/html": [
       "<table>\n",
       "    <tr>\n",
       "        <th colspan=\"5\" style=\"text-align:center\" title=\"Minimizer\"> Migrad </th>\n",
       "    </tr>\n",
       "    <tr>\n",
       "        <td colspan=\"2\" style=\"text-align:left\" title=\"Minimum value of function\"> FCN = 2.568e-17 </td>\n",
       "        <td colspan=\"3\" style=\"text-align:center\" title=\"Total number of function and (optional) gradient evaluations\"> Nfcn = 52 </td>\n",
       "    </tr>\n",
       "    <tr>\n",
       "        <td colspan=\"2\" style=\"text-align:left\" title=\"Estimated distance to minimum and goal\"> EDM = 2.57e-17 (Goal: 0.0002) </td>\n",
       "        <td colspan=\"3\" style=\"text-align:center\" title=\"Total run time of algorithms\">  </td>\n",
       "    </tr>\n",
       "    <tr>\n",
       "        <td colspan=\"2\" style=\"text-align:center;background-color:#92CCA6;color:black\"> Valid Minimum </td>\n",
       "        <td colspan=\"3\" style=\"text-align:center;background-color:#92CCA6;color:black\"> No Parameters at limit </td>\n",
       "    </tr>\n",
       "    <tr>\n",
       "        <td colspan=\"2\" style=\"text-align:center;background-color:#92CCA6;color:black\"> Below EDM threshold (goal x 10) </td>\n",
       "        <td colspan=\"3\" style=\"text-align:center;background-color:#92CCA6;color:black\"> Below call limit </td>\n",
       "    </tr>\n",
       "    <tr>\n",
       "        <td style=\"text-align:center;background-color:#92CCA6;color:black\"> Covariance </td>\n",
       "        <td style=\"text-align:center;background-color:#92CCA6;color:black\"> Hesse ok </td>\n",
       "        <td style=\"text-align:center;background-color:#92CCA6;color:black\" title=\"Is covariance matrix accurate?\"> Accurate </td>\n",
       "        <td style=\"text-align:center;background-color:#92CCA6;color:black\" title=\"Is covariance matrix positive definite?\"> Pos. def. </td>\n",
       "        <td style=\"text-align:center;background-color:#92CCA6;color:black\" title=\"Was positive definiteness enforced by Minuit?\"> Not forced </td>\n",
       "    </tr>\n",
       "</table><table>\n",
       "    <tr>\n",
       "        <td></td>\n",
       "        <th title=\"Variable name\"> Name </th>\n",
       "        <th title=\"Value of parameter\"> Value </th>\n",
       "        <th title=\"Hesse error\"> Hesse Error </th>\n",
       "        <th title=\"Minos lower error\"> Minos Error- </th>\n",
       "        <th title=\"Minos upper error\"> Minos Error+ </th>\n",
       "        <th title=\"Lower limit of the parameter\"> Limit- </th>\n",
       "        <th title=\"Upper limit of the parameter\"> Limit+ </th>\n",
       "        <th title=\"Is the parameter fixed in the fit\"> Fixed </th>\n",
       "    </tr>\n",
       "    <tr>\n",
       "        <th> 0 </th>\n",
       "        <td> x </td>\n",
       "        <td> 2 </td>\n",
       "        <td> 1 </td>\n",
       "        <td>  </td>\n",
       "        <td>  </td>\n",
       "        <td>  </td>\n",
       "        <td>  </td>\n",
       "        <td>  </td>\n",
       "    </tr>\n",
       "    <tr>\n",
       "        <th> 1 </th>\n",
       "        <td> y </td>\n",
       "        <td> 3 </td>\n",
       "        <td> 1 </td>\n",
       "        <td>  </td>\n",
       "        <td>  </td>\n",
       "        <td>  </td>\n",
       "        <td>  </td>\n",
       "        <td>  </td>\n",
       "    </tr>\n",
       "    <tr>\n",
       "        <th> 2 </th>\n",
       "        <td> z </td>\n",
       "        <td> 5 </td>\n",
       "        <td> 1 </td>\n",
       "        <td>  </td>\n",
       "        <td>  </td>\n",
       "        <td>  </td>\n",
       "        <td>  </td>\n",
       "        <td>  </td>\n",
       "    </tr>\n",
       "</table><table>\n",
       "    <tr>\n",
       "        <td></td>\n",
       "        <th> x </th>\n",
       "        <th> y </th>\n",
       "        <th> z </th>\n",
       "    </tr>\n",
       "    <tr>\n",
       "        <th> x </th>\n",
       "        <td> 1 </td>\n",
       "        <td style=\"background-color:rgb(250,250,250);color:black\"> 7.52e-33 </td>\n",
       "        <td style=\"background-color:rgb(250,250,250);color:black\"> -8.67e-17 </td>\n",
       "    </tr>\n",
       "    <tr>\n",
       "        <th> y </th>\n",
       "        <td style=\"background-color:rgb(250,250,250);color:black\"> 7.52e-33 </td>\n",
       "        <td> 1 </td>\n",
       "        <td style=\"background-color:rgb(250,250,250);color:black\"> -8.67e-17 </td>\n",
       "    </tr>\n",
       "    <tr>\n",
       "        <th> z </th>\n",
       "        <td style=\"background-color:rgb(250,250,250);color:black\"> -8.67e-17 </td>\n",
       "        <td style=\"background-color:rgb(250,250,250);color:black\"> -8.67e-17 </td>\n",
       "        <td> 1 </td>\n",
       "    </tr>\n",
       "</table>"
      ],
      "text/plain": [
       "PyObject <FMin algorithm='Migrad' edm=2.5678897839167363e-17 edm_goal=0.0002 errordef=1.0 fval=2.5678897838941243e-17 has_accurate_covar=True has_covariance=True has_made_posdef_covar=False has_parameters_at_limit=False has_posdef_covar=True has_reached_call_limit=False has_valid_parameters=True hesse_failed=False is_above_max_edm=False is_valid=True nfcn=52 ngrad=0 reduced_chi2=nan time=0.0006110340000304859>\n",
       "(Param(number=0, name='x', value=2.0000000000837734, error=0.9999999999989903, merror=None, is_const=False, is_fixed=False, lower_limit=None, upper_limit=None), Param(number=1, name='y', value=3.000000005049296, error=0.9999999999990995, merror=None, is_const=False, is_fixed=False, lower_limit=None, upper_limit=None), Param(number=2, name='z', value=4.999999999579894, error=1.000000000001069, merror=None, is_const=False, is_fixed=False, lower_limit=None, upper_limit=None))\n",
       "[[ 1.00000000e+00  7.52316653e-33 -8.67361893e-17]\n",
       " [ 7.52316653e-33  1.00000000e+00 -8.67361892e-17]\n",
       " [-8.67361893e-17 -8.67361892e-17  1.00000000e+00]]"
      ]
     },
     "execution_count": 14,
     "metadata": {},
     "output_type": "execute_result"
    }
   ],
   "source": [
    "piminuit.Minuit.hesse(model)"
   ]
  },
  {
   "cell_type": "code",
   "execution_count": 15,
   "metadata": {},
   "outputs": [
    {
     "data": {
      "text/html": [
       "<table>\n",
       "    <tr>\n",
       "        <th colspan=\"5\" style=\"text-align:center\" title=\"Minimizer\"> Migrad </th>\n",
       "    </tr>\n",
       "    <tr>\n",
       "        <td colspan=\"2\" style=\"text-align:left\" title=\"Minimum value of function\"> FCN = 2.568e-17 </td>\n",
       "        <td colspan=\"3\" style=\"text-align:center\" title=\"Total number of function and (optional) gradient evaluations\"> Nfcn = 112 </td>\n",
       "    </tr>\n",
       "    <tr>\n",
       "        <td colspan=\"2\" style=\"text-align:left\" title=\"Estimated distance to minimum and goal\"> EDM = 2.57e-17 (Goal: 0.0002) </td>\n",
       "        <td colspan=\"3\" style=\"text-align:center\" title=\"Total run time of algorithms\">  </td>\n",
       "    </tr>\n",
       "    <tr>\n",
       "        <td colspan=\"2\" style=\"text-align:center;background-color:#92CCA6;color:black\"> Valid Minimum </td>\n",
       "        <td colspan=\"3\" style=\"text-align:center;background-color:#92CCA6;color:black\"> No Parameters at limit </td>\n",
       "    </tr>\n",
       "    <tr>\n",
       "        <td colspan=\"2\" style=\"text-align:center;background-color:#92CCA6;color:black\"> Below EDM threshold (goal x 10) </td>\n",
       "        <td colspan=\"3\" style=\"text-align:center;background-color:#92CCA6;color:black\"> Below call limit </td>\n",
       "    </tr>\n",
       "    <tr>\n",
       "        <td style=\"text-align:center;background-color:#92CCA6;color:black\"> Covariance </td>\n",
       "        <td style=\"text-align:center;background-color:#92CCA6;color:black\"> Hesse ok </td>\n",
       "        <td style=\"text-align:center;background-color:#92CCA6;color:black\" title=\"Is covariance matrix accurate?\"> Accurate </td>\n",
       "        <td style=\"text-align:center;background-color:#92CCA6;color:black\" title=\"Is covariance matrix positive definite?\"> Pos. def. </td>\n",
       "        <td style=\"text-align:center;background-color:#92CCA6;color:black\" title=\"Was positive definiteness enforced by Minuit?\"> Not forced </td>\n",
       "    </tr>\n",
       "</table><table>\n",
       "    <tr>\n",
       "        <td></td>\n",
       "        <th title=\"Variable name\"> Name </th>\n",
       "        <th title=\"Value of parameter\"> Value </th>\n",
       "        <th title=\"Hesse error\"> Hesse Error </th>\n",
       "        <th title=\"Minos lower error\"> Minos Error- </th>\n",
       "        <th title=\"Minos upper error\"> Minos Error+ </th>\n",
       "        <th title=\"Lower limit of the parameter\"> Limit- </th>\n",
       "        <th title=\"Upper limit of the parameter\"> Limit+ </th>\n",
       "        <th title=\"Is the parameter fixed in the fit\"> Fixed </th>\n",
       "    </tr>\n",
       "    <tr>\n",
       "        <th> 0 </th>\n",
       "        <td> x </td>\n",
       "        <td> 2 </td>\n",
       "        <td> 1 </td>\n",
       "        <td> -1 </td>\n",
       "        <td> 1 </td>\n",
       "        <td>  </td>\n",
       "        <td>  </td>\n",
       "        <td>  </td>\n",
       "    </tr>\n",
       "    <tr>\n",
       "        <th> 1 </th>\n",
       "        <td> y </td>\n",
       "        <td> 3 </td>\n",
       "        <td> 1 </td>\n",
       "        <td> -1 </td>\n",
       "        <td> 1 </td>\n",
       "        <td>  </td>\n",
       "        <td>  </td>\n",
       "        <td>  </td>\n",
       "    </tr>\n",
       "    <tr>\n",
       "        <th> 2 </th>\n",
       "        <td> z </td>\n",
       "        <td> 5 </td>\n",
       "        <td> 1 </td>\n",
       "        <td> -1 </td>\n",
       "        <td> 1 </td>\n",
       "        <td>  </td>\n",
       "        <td>  </td>\n",
       "        <td>  </td>\n",
       "    </tr>\n",
       "</table><table>\n",
       "    <tr>\n",
       "        <td></td>\n",
       "        <th colspan=\"2\" style=\"text-align:center\" title=\"Parameter name\"> x </th>\n",
       "        <th colspan=\"2\" style=\"text-align:center\" title=\"Parameter name\"> y </th>\n",
       "        <th colspan=\"2\" style=\"text-align:center\" title=\"Parameter name\"> z </th>\n",
       "    </tr>\n",
       "    <tr>\n",
       "        <th title=\"Lower and upper minos error of the parameter\"> Error </th>\n",
       "        <td> -1 </td>\n",
       "        <td> 1 </td>\n",
       "        <td> -1 </td>\n",
       "        <td> 1 </td>\n",
       "        <td> -1 </td>\n",
       "        <td> 1 </td>\n",
       "    </tr>\n",
       "    <tr>\n",
       "        <th title=\"Validity of lower/upper minos error\"> Valid </th>\n",
       "        <td style=\"background-color:#92CCA6;color:black\"> True </td>\n",
       "        <td style=\"background-color:#92CCA6;color:black\"> True </td>\n",
       "        <td style=\"background-color:#92CCA6;color:black\"> True </td>\n",
       "        <td style=\"background-color:#92CCA6;color:black\"> True </td>\n",
       "        <td style=\"background-color:#92CCA6;color:black\"> True </td>\n",
       "        <td style=\"background-color:#92CCA6;color:black\"> True </td>\n",
       "    </tr>\n",
       "    <tr>\n",
       "        <th title=\"Did scan hit limit of any parameter?\"> At Limit </th>\n",
       "        <td style=\"background-color:#92CCA6;color:black\"> False </td>\n",
       "        <td style=\"background-color:#92CCA6;color:black\"> False </td>\n",
       "        <td style=\"background-color:#92CCA6;color:black\"> False </td>\n",
       "        <td style=\"background-color:#92CCA6;color:black\"> False </td>\n",
       "        <td style=\"background-color:#92CCA6;color:black\"> False </td>\n",
       "        <td style=\"background-color:#92CCA6;color:black\"> False </td>\n",
       "    </tr>\n",
       "    <tr>\n",
       "        <th title=\"Did scan hit function call limit?\"> Max FCN </th>\n",
       "        <td style=\"background-color:#92CCA6;color:black\"> False </td>\n",
       "        <td style=\"background-color:#92CCA6;color:black\"> False </td>\n",
       "        <td style=\"background-color:#92CCA6;color:black\"> False </td>\n",
       "        <td style=\"background-color:#92CCA6;color:black\"> False </td>\n",
       "        <td style=\"background-color:#92CCA6;color:black\"> False </td>\n",
       "        <td style=\"background-color:#92CCA6;color:black\"> False </td>\n",
       "    </tr>\n",
       "    <tr>\n",
       "        <th title=\"New minimum found when doing scan?\"> New Min </th>\n",
       "        <td style=\"background-color:#92CCA6;color:black\"> False </td>\n",
       "        <td style=\"background-color:#92CCA6;color:black\"> False </td>\n",
       "        <td style=\"background-color:#92CCA6;color:black\"> False </td>\n",
       "        <td style=\"background-color:#92CCA6;color:black\"> False </td>\n",
       "        <td style=\"background-color:#92CCA6;color:black\"> False </td>\n",
       "        <td style=\"background-color:#92CCA6;color:black\"> False </td>\n",
       "    </tr>\n",
       "</table><table>\n",
       "    <tr>\n",
       "        <td></td>\n",
       "        <th> x </th>\n",
       "        <th> y </th>\n",
       "        <th> z </th>\n",
       "    </tr>\n",
       "    <tr>\n",
       "        <th> x </th>\n",
       "        <td> 1 </td>\n",
       "        <td style=\"background-color:rgb(250,250,250);color:black\"> 7.52e-33 </td>\n",
       "        <td style=\"background-color:rgb(250,250,250);color:black\"> -8.67e-17 </td>\n",
       "    </tr>\n",
       "    <tr>\n",
       "        <th> y </th>\n",
       "        <td style=\"background-color:rgb(250,250,250);color:black\"> 7.52e-33 </td>\n",
       "        <td> 1 </td>\n",
       "        <td style=\"background-color:rgb(250,250,250);color:black\"> -8.67e-17 </td>\n",
       "    </tr>\n",
       "    <tr>\n",
       "        <th> z </th>\n",
       "        <td style=\"background-color:rgb(250,250,250);color:black\"> -8.67e-17 </td>\n",
       "        <td style=\"background-color:rgb(250,250,250);color:black\"> -8.67e-17 </td>\n",
       "        <td> 1 </td>\n",
       "    </tr>\n",
       "</table>"
      ],
      "text/plain": [
       "PyObject <FMin algorithm='Migrad' edm=2.5678897839167363e-17 edm_goal=0.0002 errordef=1.0 fval=2.5678897838941243e-17 has_accurate_covar=True has_covariance=True has_made_posdef_covar=False has_parameters_at_limit=False has_posdef_covar=True has_reached_call_limit=False has_valid_parameters=True hesse_failed=False is_above_max_edm=False is_valid=True nfcn=112 ngrad=0 reduced_chi2=nan time=0.0017547569996168022>\n",
       "(Param(number=0, name='x', value=2.0000000000837734, error=0.9999999999989903, merror=(-1.0000000000837734, 0.9999999999162267), is_const=False, is_fixed=False, lower_limit=None, upper_limit=None), Param(number=1, name='y', value=3.000000005049296, error=0.9999999999990995, merror=(-1.000000005049296, 0.999999994950704), is_const=False, is_fixed=False, lower_limit=None, upper_limit=None), Param(number=2, name='z', value=4.999999999579894, error=1.000000000001069, merror=(-0.9999999995798943, 1.0000000004201062), is_const=False, is_fixed=False, lower_limit=None, upper_limit=None))\n",
       "<MErrors\n",
       "  <MError number=0 name='x' lower=-1.0000000000837734 upper=0.9999999999162267 is_valid=True lower_valid=True upper_valid=True at_lower_limit=False at_upper_limit=False at_lower_max_fcn=False at_upper_max_fcn=False lower_new_min=False upper_new_min=False nfcn=20 min=2.0000000000837734>,\n",
       "  <MError number=1 name='y' lower=-1.000000005049296 upper=0.999999994950704 is_valid=True lower_valid=True upper_valid=True at_lower_limit=False at_upper_limit=False at_lower_max_fcn=False at_upper_max_fcn=False lower_new_min=False upper_new_min=False nfcn=20 min=3.000000005049296>,\n",
       "  <MError number=2 name='z' lower=-0.9999999995798943 upper=1.0000000004201062 is_valid=True lower_valid=True upper_valid=True at_lower_limit=False at_upper_limit=False at_lower_max_fcn=False at_upper_max_fcn=False lower_new_min=False upper_new_min=False nfcn=20 min=4.999999999579894>\n",
       ">\n",
       "[[ 1.00000000e+00  7.52316653e-33 -8.67361893e-17]\n",
       " [ 7.52316653e-33  1.00000000e+00 -8.67361892e-17]\n",
       " [-8.67361893e-17 -8.67361892e-17  1.00000000e+00]]"
      ]
     },
     "execution_count": 15,
     "metadata": {},
     "output_type": "execute_result"
    }
   ],
   "source": [
    "piminuit.Minuit.minos(model)"
   ]
  },
  {
   "cell_type": "code",
   "execution_count": 21,
   "metadata": {},
   "outputs": [
    {
     "data": {
      "text/plain": [
       "PyObject <ValueView x=2.0000000000837734 y=3.000000005049296 z=4.999999999579894>"
      ]
     },
     "execution_count": 21,
     "metadata": {},
     "output_type": "execute_result"
    }
   ],
   "source": [
    "model.values"
   ]
  },
  {
   "cell_type": "code",
   "execution_count": 23,
   "metadata": {},
   "outputs": [
    {
     "data": {
      "text/plain": [
       "3.000000005049296"
      ]
     },
     "execution_count": 23,
     "metadata": {},
     "output_type": "execute_result"
    }
   ],
   "source": [
    "get(model.values,1)"
   ]
  },
  {
   "cell_type": "code",
   "execution_count": 11,
   "metadata": {},
   "outputs": [
    {
     "data": {
      "text/plain": [
       "PyObject array([0, 1], dtype=int64)"
      ]
     },
     "execution_count": 11,
     "metadata": {},
     "output_type": "execute_result"
    }
   ],
   "source": [
    "PyObject([0,1])"
   ]
  },
  {
   "cell_type": "code",
   "execution_count": null,
   "metadata": {},
   "outputs": [],
   "source": []
  }
 ],
 "metadata": {
  "interpreter": {
   "hash": "da5c222fca3f94e94d4b307e312792c2fe11fdec34ad970b2dc515d52579dd3d"
  },
  "kernelspec": {
   "display_name": "Julia 1.8.0-rc1",
   "language": "julia",
   "name": "julia-1.8"
  },
  "language_info": {
   "file_extension": ".jl",
   "mimetype": "application/julia",
   "name": "julia",
   "version": "1.8.0"
  },
  "toc": {
   "base_numbering": 1,
   "nav_menu": {},
   "number_sections": true,
   "sideBar": true,
   "skip_h1_title": false,
   "title_cell": "Table of Contents",
   "title_sidebar": "Contents",
   "toc_cell": false,
   "toc_position": {},
   "toc_section_display": true,
   "toc_window_display": false
  }
 },
 "nbformat": 4,
 "nbformat_minor": 2
}
