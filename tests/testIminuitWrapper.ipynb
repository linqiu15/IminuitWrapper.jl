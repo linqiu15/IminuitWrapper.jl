{
 "cells": [
  {
   "cell_type": "code",
   "execution_count": 1,
   "metadata": {},
   "outputs": [
    {
     "data": {
      "text/plain": [
       "\"/usr/bin/python3\""
      ]
     },
     "execution_count": 1,
     "metadata": {},
     "output_type": "execute_result"
    }
   ],
   "source": [
    "ENV[\"PYTHON\"]=\"/usr/bin/python3\""
   ]
  },
  {
   "cell_type": "code",
   "execution_count": 2,
   "metadata": {},
   "outputs": [
    {
     "name": "stderr",
     "output_type": "stream",
     "text": [
      "\u001b[32m\u001b[1m    Building\u001b[22m\u001b[39m Conda ─→ `~/.julia/scratchspaces/44cfe95a-1eb2-52ea-b672-e2afdf69b78f/6e47d11ea2776bc5627421d59cdcc1296c058071/build.log`\n",
      "\u001b[32m\u001b[1m    Building\u001b[22m\u001b[39m PyCall → `~/.julia/scratchspaces/44cfe95a-1eb2-52ea-b672-e2afdf69b78f/1fc929f47d7c151c839c5fc1375929766fb8edcc/build.log`\n",
      "\u001b[32m\u001b[1mPrecompiling\u001b[22m\u001b[39m project...\n",
      "\u001b[32m  ✓ \u001b[39mIminuitWrapper\n",
      "  1 dependency successfully precompiled in 2 seconds (12 already precompiled)\n"
     ]
    }
   ],
   "source": [
    "using Pkg;\n",
    "Pkg.build(\"PyCall\");"
   ]
  },
  {
   "cell_type": "code",
   "execution_count": 3,
   "metadata": {},
   "outputs": [
    {
     "name": "stdout",
     "output_type": "stream",
     "text": [
      "The current version of iminuit is 2.11.1 and it will be changed to 2.11.2!\n",
      "Defaulting to user installation because normal site-packages is not writeable\n",
      "Looking in indexes: https://pypi.tuna.tsinghua.edu.cn/simple\n",
      "Collecting iminuit==2.11.2\n",
      "  Using cached https://pypi.tuna.tsinghua.edu.cn/packages/25/03/d379b0e6b5f65ed93b63e9581565311046929b65369de21a4c679f1e5831/iminuit-2.11.2-cp310-cp310-manylinux_2_17_x86_64.manylinux2014_x86_64.whl (364 kB)\n",
      "Requirement already satisfied: numpy in /home/ql/.local/lib/python3.10/site-packages (from iminuit==2.11.2) (1.22.3)\n",
      "Installing collected packages: iminuit\n",
      "  Attempting uninstall: iminuit\n",
      "    Found existing installation: iminuit 2.11.1\n",
      "    Uninstalling iminuit-2.11.1:\n",
      "      Successfully uninstalled iminuit-2.11.1\n",
      "Successfully installed iminuit-2.11.2\n"
     ]
    },
    {
     "data": {
      "text/plain": [
       "Main.IminuitWrapper"
      ]
     },
     "execution_count": 3,
     "metadata": {},
     "output_type": "execute_result"
    }
   ],
   "source": [
    "include(\"../src/IminuitWrapper.jl\")"
   ]
  },
  {
   "cell_type": "code",
   "execution_count": null,
   "metadata": {},
   "outputs": [],
   "source": []
  }
 ],
 "metadata": {
  "kernelspec": {
   "display_name": "Julia 1.7.2",
   "language": "julia",
   "name": "julia-1.7"
  },
  "language_info": {
   "file_extension": ".jl",
   "mimetype": "application/julia",
   "name": "julia",
   "version": "1.7.2"
  },
  "orig_nbformat": 4
 },
 "nbformat": 4,
 "nbformat_minor": 2
}
