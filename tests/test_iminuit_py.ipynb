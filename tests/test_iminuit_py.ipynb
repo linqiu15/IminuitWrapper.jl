{
 "cells": [
  {
   "cell_type": "code",
   "execution_count": 1,
   "metadata": {},
   "outputs": [],
   "source": [
    "ENV[\"PYTHON\"]=\"/usr/bin/python3\";"
   ]
  },
  {
   "cell_type": "code",
   "execution_count": 2,
   "metadata": {},
   "outputs": [
    {
     "name": "stderr",
     "output_type": "stream",
     "text": [
      "\u001b[32m\u001b[1m    Updating\u001b[22m\u001b[39m registry at `~/.julia/registries/General.toml`\n",
      "\u001b[32m\u001b[1m   Resolving\u001b[22m\u001b[39m package versions...\n",
      "\u001b[32m\u001b[1m  No Changes\u001b[22m\u001b[39m to `~/Nutstore Files/Nutstore/codes/github/iminuit_wrapper.jl/Project.toml`\n",
      "\u001b[32m\u001b[1m  No Changes\u001b[22m\u001b[39m to `~/Nutstore Files/Nutstore/codes/github/iminuit_wrapper.jl/Manifest.toml`\n",
      "\u001b[32m\u001b[1mPrecompiling\u001b[22m\u001b[39m project...\n",
      "\u001b[32m  ✓ \u001b[39miminuit_wrapper\n",
      "  1 dependency successfully precompiled in 1 seconds (12 already precompiled)\n"
     ]
    }
   ],
   "source": [
    "using Pkg;\n",
    "Pkg.add(\"PyCall\");"
   ]
  },
  {
   "cell_type": "code",
   "execution_count": 3,
   "metadata": {},
   "outputs": [
    {
     "name": "stderr",
     "output_type": "stream",
     "text": [
      "\u001b[32m\u001b[1m    Building\u001b[22m\u001b[39m Conda ─→ `~/.julia/scratchspaces/44cfe95a-1eb2-52ea-b672-e2afdf69b78f/6e47d11ea2776bc5627421d59cdcc1296c058071/build.log`\n",
      "\u001b[32m\u001b[1m    Building\u001b[22m\u001b[39m PyCall → `~/.julia/scratchspaces/44cfe95a-1eb2-52ea-b672-e2afdf69b78f/1fc929f47d7c151c839c5fc1375929766fb8edcc/build.log`\n",
      "\u001b[32m\u001b[1mPrecompiling\u001b[22m\u001b[39m project...\n",
      "\u001b[32m  ✓ \u001b[39mPyCall\n",
      "\u001b[32m  ✓ \u001b[39miminuit_wrapper\n",
      "  2 dependencies successfully precompiled in 4 seconds (11 already precompiled)\n"
     ]
    }
   ],
   "source": [
    "Pkg.build(\"PyCall\");"
   ]
  },
  {
   "cell_type": "code",
   "execution_count": 4,
   "metadata": {},
   "outputs": [],
   "source": [
    "using PyCall;"
   ]
  },
  {
   "cell_type": "code",
   "execution_count": 6,
   "metadata": {},
   "outputs": [
    {
     "data": {
      "text/plain": [
       "PyObject <module 'iminuit' from '/home/ql/.local/lib/python3.10/site-packages/iminuit/__init__.py'>"
      ]
     },
     "execution_count": 6,
     "metadata": {},
     "output_type": "execute_result"
    }
   ],
   "source": [
    "piminuit=pyimport(\"iminuit\")"
   ]
  },
  {
   "cell_type": "code",
   "execution_count": 7,
   "metadata": {},
   "outputs": [
    {
     "data": {
      "text/plain": [
       "fcn (generic function with 1 method)"
      ]
     },
     "execution_count": 7,
     "metadata": {},
     "output_type": "execute_result"
    }
   ],
   "source": [
    "fcn(x,y,z)=(x-2)^2+(y-3)^2+(z-5)^2"
   ]
  },
  {
   "cell_type": "code",
   "execution_count": 8,
   "metadata": {},
   "outputs": [
    {
     "name": "stderr",
     "output_type": "stream",
     "text": [
      "sys:1: IMinuitWarning: errordef not set, using 1 (appropriate for least-squares)\n"
     ]
    },
    {
     "data": {
      "text/html": [
       "<table>\n",
       "    <tr>\n",
       "        <th colspan=\"5\" style=\"text-align:center\" title=\"Minimizer\"> Migrad </th>\n",
       "    </tr>\n",
       "    <tr>\n",
       "        <td colspan=\"2\" style=\"text-align:left\" title=\"Minimum value of function\"> FCN = 2.568e-17 </td>\n",
       "        <td colspan=\"3\" style=\"text-align:center\" title=\"Total number of function and (optional) gradient evaluations\"> Nfcn = 36 </td>\n",
       "    </tr>\n",
       "    <tr>\n",
       "        <td colspan=\"2\" style=\"text-align:left\" title=\"Estimated distance to minimum and goal\"> EDM = 2.57e-17 (Goal: 0.0002) </td>\n",
       "        <td colspan=\"3\" style=\"text-align:center\" title=\"Total run time of algorithms\"> time = 0.3 sec </td>\n",
       "    </tr>\n",
       "    <tr>\n",
       "        <td colspan=\"2\" style=\"text-align:center;background-color:#92CCA6;color:black\"> Valid Minimum </td>\n",
       "        <td colspan=\"3\" style=\"text-align:center;background-color:#92CCA6;color:black\"> No Parameters at limit </td>\n",
       "    </tr>\n",
       "    <tr>\n",
       "        <td colspan=\"2\" style=\"text-align:center;background-color:#92CCA6;color:black\"> Below EDM threshold (goal x 10) </td>\n",
       "        <td colspan=\"3\" style=\"text-align:center;background-color:#92CCA6;color:black\"> Below call limit </td>\n",
       "    </tr>\n",
       "    <tr>\n",
       "        <td style=\"text-align:center;background-color:#92CCA6;color:black\"> Covariance </td>\n",
       "        <td style=\"text-align:center;background-color:#92CCA6;color:black\"> Hesse ok </td>\n",
       "        <td style=\"text-align:center;background-color:#92CCA6;color:black\" title=\"Is covariance matrix accurate?\"> Accurate </td>\n",
       "        <td style=\"text-align:center;background-color:#92CCA6;color:black\" title=\"Is covariance matrix positive definite?\"> Pos. def. </td>\n",
       "        <td style=\"text-align:center;background-color:#92CCA6;color:black\" title=\"Was positive definiteness enforced by Minuit?\"> Not forced </td>\n",
       "    </tr>\n",
       "</table><table>\n",
       "    <tr>\n",
       "        <td></td>\n",
       "        <th title=\"Variable name\"> Name </th>\n",
       "        <th title=\"Value of parameter\"> Value </th>\n",
       "        <th title=\"Hesse error\"> Hesse Error </th>\n",
       "        <th title=\"Minos lower error\"> Minos Error- </th>\n",
       "        <th title=\"Minos upper error\"> Minos Error+ </th>\n",
       "        <th title=\"Lower limit of the parameter\"> Limit- </th>\n",
       "        <th title=\"Upper limit of the parameter\"> Limit+ </th>\n",
       "        <th title=\"Is the parameter fixed in the fit\"> Fixed </th>\n",
       "    </tr>\n",
       "    <tr>\n",
       "        <th> 0 </th>\n",
       "        <td> x </td>\n",
       "        <td> 2 </td>\n",
       "        <td> 1 </td>\n",
       "        <td>  </td>\n",
       "        <td>  </td>\n",
       "        <td>  </td>\n",
       "        <td>  </td>\n",
       "        <td>  </td>\n",
       "    </tr>\n",
       "    <tr>\n",
       "        <th> 1 </th>\n",
       "        <td> y </td>\n",
       "        <td> 3 </td>\n",
       "        <td> 1 </td>\n",
       "        <td>  </td>\n",
       "        <td>  </td>\n",
       "        <td>  </td>\n",
       "        <td>  </td>\n",
       "        <td>  </td>\n",
       "    </tr>\n",
       "    <tr>\n",
       "        <th> 2 </th>\n",
       "        <td> z </td>\n",
       "        <td> 5 </td>\n",
       "        <td> 1 </td>\n",
       "        <td>  </td>\n",
       "        <td>  </td>\n",
       "        <td>  </td>\n",
       "        <td>  </td>\n",
       "        <td>  </td>\n",
       "    </tr>\n",
       "</table><table>\n",
       "    <tr>\n",
       "        <td></td>\n",
       "        <th> x </th>\n",
       "        <th> y </th>\n",
       "        <th> z </th>\n",
       "    </tr>\n",
       "    <tr>\n",
       "        <th> x </th>\n",
       "        <td> 1 </td>\n",
       "        <td style=\"background-color:rgb(250,250,250);color:black\"> 1.11e-16 </td>\n",
       "        <td style=\"background-color:rgb(250,250,250);color:black\"> -5.55e-17 </td>\n",
       "    </tr>\n",
       "    <tr>\n",
       "        <th> y </th>\n",
       "        <td style=\"background-color:rgb(250,250,250);color:black\"> 1.11e-16 </td>\n",
       "        <td> 1 </td>\n",
       "        <td style=\"background-color:rgb(250,250,250);color:black\"> 1.67e-16 </td>\n",
       "    </tr>\n",
       "    <tr>\n",
       "        <th> z </th>\n",
       "        <td style=\"background-color:rgb(250,250,250);color:black\"> -5.55e-17 </td>\n",
       "        <td style=\"background-color:rgb(250,250,250);color:black\"> 1.67e-16 </td>\n",
       "        <td> 1 </td>\n",
       "    </tr>\n",
       "</table>"
      ],
      "text/plain": [
       "PyObject <FMin algorithm='Migrad' edm=2.567889783901509e-17 edm_goal=0.0002 errordef=1.0 fval=2.5678897838941243e-17 has_accurate_covar=True has_covariance=True has_made_posdef_covar=False has_parameters_at_limit=False has_posdef_covar=True has_reached_call_limit=False has_valid_parameters=True hesse_failed=False is_above_max_edm=False is_valid=True nfcn=36 ngrad=0 reduced_chi2=nan time=0.26521568199999024>\n",
       "(Param(number=0, name='x', value=2.0000000000837734, error=0.9999999999998996, merror=None, is_const=False, is_fixed=False, lower_limit=None, upper_limit=None), Param(number=1, name='y', value=3.000000005049296, error=1.0000000000000089, merror=None, is_const=False, is_fixed=False, lower_limit=None, upper_limit=None), Param(number=2, name='z', value=4.999999999579894, error=0.9999999999992497, merror=None, is_const=False, is_fixed=False, lower_limit=None, upper_limit=None))\n",
       "[[ 1.00000000e+00  1.11022319e-16 -5.55111612e-17]\n",
       " [ 1.11022319e-16  1.00000000e+00  1.66533483e-16]\n",
       " [-5.55111612e-17  1.66533483e-16  1.00000000e+00]]"
      ]
     },
     "execution_count": 8,
     "metadata": {},
     "output_type": "execute_result"
    }
   ],
   "source": [
    "piminuit.Minuit.migrad(piminuit.Minuit(fcn,x=0,y=1,z=2))"
   ]
  },
  {
   "cell_type": "code",
   "execution_count": 9,
   "metadata": {},
   "outputs": [
    {
     "name": "stderr",
     "output_type": "stream",
     "text": [
      "/home/ql/.local/lib/python3.10/site-packages/iminuit/minuit.py:1969: IMinuitWarning: errordef not set, using 1 (appropriate for least-squares)\n",
      "  self.tol * self.errordef, self._mnprecision().eps2  # type:ignore\n"
     ]
    },
    {
     "data": {
      "text/html": [
       "<table>\n",
       "    <tr>\n",
       "        <th colspan=\"5\" style=\"text-align:center\" title=\"Minimizer\"> External </th>\n",
       "    </tr>\n",
       "    <tr>\n",
       "        <td colspan=\"2\" style=\"text-align:left\" title=\"Minimum value of function\"> FCN = 17 </td>\n",
       "        <td colspan=\"3\" style=\"text-align:center\" title=\"Total number of function and (optional) gradient evaluations\"> Nfcn = 24 </td>\n",
       "    </tr>\n",
       "    <tr>\n",
       "        <td colspan=\"2\" style=\"text-align:left\" title=\"Estimated distance to minimum and goal\"> EDM = 17 (Goal: 0.0002) </td>\n",
       "        <td colspan=\"3\" style=\"text-align:center\" title=\"Total run time of algorithms\">  </td>\n",
       "    </tr>\n",
       "    <tr>\n",
       "        <td colspan=\"2\" style=\"text-align:center;background-color:#c15ef7;color:black\"> INVALID Minimum </td>\n",
       "        <td colspan=\"3\" style=\"text-align:center;background-color:#92CCA6;color:black\"> No Parameters at limit </td>\n",
       "    </tr>\n",
       "    <tr>\n",
       "        <td colspan=\"2\" style=\"text-align:center;background-color:#c15ef7;color:black\"> ABOVE EDM threshold (goal x 10) </td>\n",
       "        <td colspan=\"3\" style=\"text-align:center;background-color:#92CCA6;color:black\"> Below call limit </td>\n",
       "    </tr>\n",
       "    <tr>\n",
       "        <td style=\"text-align:center;background-color:#92CCA6;color:black\"> Covariance </td>\n",
       "        <td style=\"text-align:center;background-color:#c15ef7;color:black\"> Hesse FAILED </td>\n",
       "        <td style=\"text-align:center;background-color:#FFF79A;color:black\" title=\"Is covariance matrix accurate?\"> APPROXIMATE </td>\n",
       "        <td style=\"text-align:center;background-color:#c15ef7;color:black\" title=\"Is covariance matrix positive definite?\"> NOT pos. def. </td>\n",
       "        <td style=\"text-align:center;background-color:#92CCA6;color:black\" title=\"Was positive definiteness enforced by Minuit?\"> Not forced </td>\n",
       "    </tr>\n",
       "</table><table>\n",
       "    <tr>\n",
       "        <td></td>\n",
       "        <th title=\"Variable name\"> Name </th>\n",
       "        <th title=\"Value of parameter\"> Value </th>\n",
       "        <th title=\"Hesse error\"> Hesse Error </th>\n",
       "        <th title=\"Minos lower error\"> Minos Error- </th>\n",
       "        <th title=\"Minos upper error\"> Minos Error+ </th>\n",
       "        <th title=\"Lower limit of the parameter\"> Limit- </th>\n",
       "        <th title=\"Upper limit of the parameter\"> Limit+ </th>\n",
       "        <th title=\"Is the parameter fixed in the fit\"> Fixed </th>\n",
       "    </tr>\n",
       "    <tr>\n",
       "        <th> 0 </th>\n",
       "        <td> x </td>\n",
       "        <td> 0 </td>\n",
       "        <td> 1 </td>\n",
       "        <td>  </td>\n",
       "        <td>  </td>\n",
       "        <td>  </td>\n",
       "        <td>  </td>\n",
       "        <td>  </td>\n",
       "    </tr>\n",
       "    <tr>\n",
       "        <th> 1 </th>\n",
       "        <td> y </td>\n",
       "        <td> 1 </td>\n",
       "        <td> 1 </td>\n",
       "        <td>  </td>\n",
       "        <td>  </td>\n",
       "        <td>  </td>\n",
       "        <td>  </td>\n",
       "        <td>  </td>\n",
       "    </tr>\n",
       "    <tr>\n",
       "        <th> 2 </th>\n",
       "        <td> z </td>\n",
       "        <td> 2 </td>\n",
       "        <td> 1 </td>\n",
       "        <td>  </td>\n",
       "        <td>  </td>\n",
       "        <td>  </td>\n",
       "        <td>  </td>\n",
       "        <td>  </td>\n",
       "    </tr>\n",
       "</table>"
      ],
      "text/plain": [
       "PyObject <FMin algorithm='External' edm=17.000000009004115 edm_goal=0.0002 errordef=1.0 fval=17.0 has_accurate_covar=False has_covariance=True has_made_posdef_covar=False has_parameters_at_limit=False has_posdef_covar=False has_reached_call_limit=False has_valid_parameters=False hesse_failed=True is_above_max_edm=True is_valid=False nfcn=24 ngrad=0 reduced_chi2=nan time=0.0001370120000103725>\n",
       "(Param(number=0, name='x', value=0.0, error=1.0000000000208096, merror=None, is_const=False, is_fixed=False, lower_limit=None, upper_limit=None), Param(number=1, name='y', value=1.0, error=1.0000000012623795, merror=None, is_const=False, is_fixed=False, lower_limit=None, upper_limit=None), Param(number=2, name='z', value=2.0, error=0.9999999999301119, merror=None, is_const=False, is_fixed=False, lower_limit=None, upper_limit=None))"
      ]
     },
     "execution_count": 9,
     "metadata": {},
     "output_type": "execute_result"
    }
   ],
   "source": [
    "piminuit.Minuit.hesse(piminuit.Minuit(fcn,x=0,y=1,z=2))"
   ]
  },
  {
   "cell_type": "code",
   "execution_count": 10,
   "metadata": {},
   "outputs": [
    {
     "data": {
      "text/html": [
       "<table>\n",
       "    <tr>\n",
       "        <th colspan=\"5\" style=\"text-align:center\" title=\"Minimizer\"> Scan </th>\n",
       "    </tr>\n",
       "    <tr>\n",
       "        <td colspan=\"2\" style=\"text-align:left\" title=\"Minimum value of function\"> FCN = 16.45 </td>\n",
       "        <td colspan=\"3\" style=\"text-align:center\" title=\"Total number of function and (optional) gradient evaluations\"> Nfcn = 525 </td>\n",
       "    </tr>\n",
       "    <tr>\n",
       "        <td colspan=\"2\" style=\"text-align:left\" title=\"Estimated distance to minimum and goal\"> EDM = 16.5 (Goal: 0.1) </td>\n",
       "        <td colspan=\"3\" style=\"text-align:center\" title=\"Total run time of algorithms\">  </td>\n",
       "    </tr>\n",
       "    <tr>\n",
       "        <td colspan=\"2\" style=\"text-align:center;background-color:#c15ef7;color:black\"> INVALID Minimum </td>\n",
       "        <td colspan=\"3\" style=\"text-align:center;background-color:#92CCA6;color:black\"> No Parameters at limit </td>\n",
       "    </tr>\n",
       "    <tr>\n",
       "        <td colspan=\"2\" style=\"text-align:center;background-color:#c15ef7;color:black\"> ABOVE EDM threshold (goal x 10) </td>\n",
       "        <td colspan=\"3\" style=\"text-align:center;background-color:#92CCA6;color:black\"> Below call limit </td>\n",
       "    </tr>\n",
       "    <tr>\n",
       "        <td style=\"text-align:center;background-color:#FFF79A;color:black\"> NO Covariance </td>\n",
       "        <td style=\"text-align:center;background-color:#92CCA6;color:black\"> Hesse ok </td>\n",
       "        <td style=\"text-align:center;background-color:#FFF79A;color:black\" title=\"Is covariance matrix accurate?\"> APPROXIMATE </td>\n",
       "        <td style=\"text-align:center;background-color:#c15ef7;color:black\" title=\"Is covariance matrix positive definite?\"> NOT pos. def. </td>\n",
       "        <td style=\"text-align:center;background-color:#92CCA6;color:black\" title=\"Was positive definiteness enforced by Minuit?\"> Not forced </td>\n",
       "    </tr>\n",
       "</table><table>\n",
       "    <tr>\n",
       "        <td></td>\n",
       "        <th title=\"Variable name\"> Name </th>\n",
       "        <th title=\"Value of parameter\"> Value </th>\n",
       "        <th title=\"Hesse error\"> Hesse Error </th>\n",
       "        <th title=\"Minos lower error\"> Minos Error- </th>\n",
       "        <th title=\"Minos upper error\"> Minos Error+ </th>\n",
       "        <th title=\"Lower limit of the parameter\"> Limit- </th>\n",
       "        <th title=\"Upper limit of the parameter\"> Limit+ </th>\n",
       "        <th title=\"Is the parameter fixed in the fit\"> Fixed </th>\n",
       "    </tr>\n",
       "    <tr>\n",
       "        <th> 0 </th>\n",
       "        <td> x </td>\n",
       "        <td> 0.1 </td>\n",
       "        <td> 1.0 </td>\n",
       "        <td>  </td>\n",
       "        <td>  </td>\n",
       "        <td>  </td>\n",
       "        <td>  </td>\n",
       "        <td>  </td>\n",
       "    </tr>\n",
       "    <tr>\n",
       "        <th> 1 </th>\n",
       "        <td> y </td>\n",
       "        <td> 1 </td>\n",
       "        <td> 1 </td>\n",
       "        <td>  </td>\n",
       "        <td>  </td>\n",
       "        <td>  </td>\n",
       "        <td>  </td>\n",
       "        <td>  </td>\n",
       "    </tr>\n",
       "    <tr>\n",
       "        <th> 2 </th>\n",
       "        <td> z </td>\n",
       "        <td> 2 </td>\n",
       "        <td> 1 </td>\n",
       "        <td>  </td>\n",
       "        <td>  </td>\n",
       "        <td>  </td>\n",
       "        <td>  </td>\n",
       "        <td>  </td>\n",
       "    </tr>\n",
       "</table>"
      ],
      "text/plain": [
       "PyObject <FMin algorithm='Scan' edm=16.45049998356083 edm_goal=0.1 errordef=1.0 fval=16.450499999999998 has_accurate_covar=False has_covariance=False has_made_posdef_covar=False has_parameters_at_limit=False has_posdef_covar=False has_reached_call_limit=False has_valid_parameters=False hesse_failed=False is_above_max_edm=True is_valid=False nfcn=525 ngrad=0 reduced_chi2=nan time=0.013176440000023604>\n",
       "(Param(number=0, name='x', value=0.1, error=0.9999999995504671, merror=None, is_const=False, is_fixed=False, lower_limit=None, upper_limit=None), Param(number=1, name='y', value=1.01, error=0.9999999994860227, merror=None, is_const=False, is_fixed=False, lower_limit=None, upper_limit=None), Param(number=2, name='z', value=2.02, error=0.9999999994860227, merror=None, is_const=False, is_fixed=False, lower_limit=None, upper_limit=None))"
      ]
     },
     "execution_count": 10,
     "metadata": {},
     "output_type": "execute_result"
    }
   ],
   "source": [
    "piminuit.Minuit.scan(piminuit.Minuit(fcn,x=0,y=1,z=2))"
   ]
  },
  {
   "cell_type": "code",
   "execution_count": 11,
   "metadata": {},
   "outputs": [
    {
     "data": {
      "text/html": [
       "<table>\n",
       "    <tr>\n",
       "        <th colspan=\"5\" style=\"text-align:center\" title=\"Minimizer\"> Simplex </th>\n",
       "    </tr>\n",
       "    <tr>\n",
       "        <td colspan=\"2\" style=\"text-align:left\" title=\"Minimum value of function\"> FCN = 6.677 </td>\n",
       "        <td colspan=\"3\" style=\"text-align:center\" title=\"Total number of function and (optional) gradient evaluations\"> Nfcn = 44 </td>\n",
       "    </tr>\n",
       "    <tr>\n",
       "        <td colspan=\"2\" style=\"text-align:left\" title=\"Estimated distance to minimum and goal\"> EDM = 0.0425 (Goal: 0.1) </td>\n",
       "        <td colspan=\"3\" style=\"text-align:center\" title=\"Total run time of algorithms\">  </td>\n",
       "    </tr>\n",
       "    <tr>\n",
       "        <td colspan=\"2\" style=\"text-align:center;background-color:#92CCA6;color:black\"> Valid Minimum </td>\n",
       "        <td colspan=\"3\" style=\"text-align:center;background-color:#92CCA6;color:black\"> No Parameters at limit </td>\n",
       "    </tr>\n",
       "    <tr>\n",
       "        <td colspan=\"2\" style=\"text-align:center;background-color:#92CCA6;color:black\"> Below EDM threshold (goal x 10) </td>\n",
       "        <td colspan=\"3\" style=\"text-align:center;background-color:#92CCA6;color:black\"> Below call limit </td>\n",
       "    </tr>\n",
       "    <tr>\n",
       "        <td style=\"text-align:center;background-color:#FFF79A;color:black\"> NO Covariance </td>\n",
       "        <td style=\"text-align:center;background-color:#92CCA6;color:black\"> Hesse ok </td>\n",
       "        <td style=\"text-align:center;background-color:#FFF79A;color:black\" title=\"Is covariance matrix accurate?\"> APPROXIMATE </td>\n",
       "        <td style=\"text-align:center;background-color:#c15ef7;color:black\" title=\"Is covariance matrix positive definite?\"> NOT pos. def. </td>\n",
       "        <td style=\"text-align:center;background-color:#92CCA6;color:black\" title=\"Was positive definiteness enforced by Minuit?\"> Not forced </td>\n",
       "    </tr>\n",
       "</table><table>\n",
       "    <tr>\n",
       "        <td></td>\n",
       "        <th title=\"Variable name\"> Name </th>\n",
       "        <th title=\"Value of parameter\"> Value </th>\n",
       "        <th title=\"Hesse error\"> Hesse Error </th>\n",
       "        <th title=\"Minos lower error\"> Minos Error- </th>\n",
       "        <th title=\"Minos upper error\"> Minos Error+ </th>\n",
       "        <th title=\"Lower limit of the parameter\"> Limit- </th>\n",
       "        <th title=\"Upper limit of the parameter\"> Limit+ </th>\n",
       "        <th title=\"Is the parameter fixed in the fit\"> Fixed </th>\n",
       "    </tr>\n",
       "    <tr>\n",
       "        <th> 0 </th>\n",
       "        <td> x </td>\n",
       "        <td> 1.7 </td>\n",
       "        <td> 0.7 </td>\n",
       "        <td>  </td>\n",
       "        <td>  </td>\n",
       "        <td>  </td>\n",
       "        <td>  </td>\n",
       "        <td>  </td>\n",
       "    </tr>\n",
       "    <tr>\n",
       "        <th> 1 </th>\n",
       "        <td> y </td>\n",
       "        <td> 0.46 </td>\n",
       "        <td> 0.19 </td>\n",
       "        <td>  </td>\n",
       "        <td>  </td>\n",
       "        <td>  </td>\n",
       "        <td>  </td>\n",
       "        <td>  </td>\n",
       "    </tr>\n",
       "    <tr>\n",
       "        <th> 2 </th>\n",
       "        <td> z </td>\n",
       "        <td> 4.7 </td>\n",
       "        <td> 1.9 </td>\n",
       "        <td>  </td>\n",
       "        <td>  </td>\n",
       "        <td>  </td>\n",
       "        <td>  </td>\n",
       "        <td>  </td>\n",
       "    </tr>\n",
       "</table>"
      ],
      "text/plain": [
       "PyObject <FMin algorithm='Simplex' edm=0.042468638128554836 edm_goal=0.1 errordef=1.0 fval=6.676956489701631 has_accurate_covar=False has_covariance=False has_made_posdef_covar=False has_parameters_at_limit=False has_posdef_covar=False has_reached_call_limit=False has_valid_parameters=True hesse_failed=False is_above_max_edm=False is_valid=True nfcn=44 ngrad=0 reduced_chi2=nan time=0.0008473979999905623>\n",
       "(Param(number=0, name='x', value=1.6582642921343433, error=0.6981143769991367, merror=None, is_const=False, is_fixed=False, lower_limit=None, upper_limit=None), Param(number=1, name='y', value=0.4621863223507472, error=0.19242074639407622, merror=None, is_const=False, is_fixed=False, lower_limit=None, upper_limit=None), Param(number=2, name='z', value=4.654059350166011, error=1.907451941280963, merror=None, is_const=False, is_fixed=False, lower_limit=None, upper_limit=None))"
      ]
     },
     "execution_count": 11,
     "metadata": {},
     "output_type": "execute_result"
    }
   ],
   "source": [
    "piminuit.Minuit.simplex(piminuit.Minuit(fcn,x=0,y=1,z=2))"
   ]
  },
  {
   "cell_type": "code",
   "execution_count": 13,
   "metadata": {},
   "outputs": [
    {
     "data": {
      "text/html": [
       "<table>\n",
       "    <tr>\n",
       "        <td></td>\n",
       "        <th title=\"Variable name\"> Name </th>\n",
       "        <th title=\"Value of parameter\"> Value </th>\n",
       "        <th title=\"Hesse error\"> Hesse Error </th>\n",
       "        <th title=\"Minos lower error\"> Minos Error- </th>\n",
       "        <th title=\"Minos upper error\"> Minos Error+ </th>\n",
       "        <th title=\"Lower limit of the parameter\"> Limit- </th>\n",
       "        <th title=\"Upper limit of the parameter\"> Limit+ </th>\n",
       "        <th title=\"Is the parameter fixed in the fit\"> Fixed </th>\n",
       "    </tr>\n",
       "    <tr>\n",
       "        <th> 0 </th>\n",
       "        <td> x </td>\n",
       "        <td> 0.0 </td>\n",
       "        <td> 0.1 </td>\n",
       "        <td>  </td>\n",
       "        <td>  </td>\n",
       "        <td>  </td>\n",
       "        <td>  </td>\n",
       "        <td>  </td>\n",
       "    </tr>\n",
       "    <tr>\n",
       "        <th> 1 </th>\n",
       "        <td> y </td>\n",
       "        <td> 1.00 </td>\n",
       "        <td> 0.01 </td>\n",
       "        <td>  </td>\n",
       "        <td>  </td>\n",
       "        <td>  </td>\n",
       "        <td>  </td>\n",
       "        <td>  </td>\n",
       "    </tr>\n",
       "    <tr>\n",
       "        <th> 2 </th>\n",
       "        <td> z </td>\n",
       "        <td> 2.00 </td>\n",
       "        <td> 0.02 </td>\n",
       "        <td>  </td>\n",
       "        <td>  </td>\n",
       "        <td>  </td>\n",
       "        <td>  </td>\n",
       "        <td>  </td>\n",
       "    </tr>\n",
       "</table>"
      ],
      "text/plain": [
       "PyObject (Param(number=0, name='x', value=0.0, error=0.1, merror=None, is_const=False, is_fixed=False, lower_limit=None, upper_limit=None), Param(number=1, name='y', value=1.0, error=0.01, merror=None, is_const=False, is_fixed=False, lower_limit=None, upper_limit=None), Param(number=2, name='z', value=2.0, error=0.02, merror=None, is_const=False, is_fixed=False, lower_limit=None, upper_limit=None))"
      ]
     },
     "execution_count": 13,
     "metadata": {},
     "output_type": "execute_result"
    }
   ],
   "source": [
    "model=piminuit.Minuit(fcn,x=0,y=1,z=2,name=(\"x\", \"y\",\"z\"))"
   ]
  },
  {
   "cell_type": "code",
   "execution_count": 18,
   "metadata": {},
   "outputs": [
    {
     "data": {
      "text/plain": [
       "(PyObject Param(number=0, name='x', value=0.0, error=0.1, merror=None, is_const=False, is_fixed=False, lower_limit=None, upper_limit=None), PyObject Param(number=1, name='y', value=1.0, error=0.01, merror=None, is_const=False, is_fixed=False, lower_limit=None, upper_limit=None), PyObject Param(number=2, name='z', value=2.0, error=0.02, merror=None, is_const=False, is_fixed=False, lower_limit=None, upper_limit=None))"
      ]
     },
     "execution_count": 18,
     "metadata": {},
     "output_type": "execute_result"
    }
   ],
   "source": [
    "model.params"
   ]
  },
  {
   "cell_type": "code",
   "execution_count": 26,
   "metadata": {},
   "outputs": [
    {
     "data": {
      "text/plain": [
       "PyObject <FixedView x=False y=False z=False>"
      ]
     },
     "execution_count": 26,
     "metadata": {},
     "output_type": "execute_result"
    }
   ],
   "source": [
    "model.fixed"
   ]
  },
  {
   "cell_type": "code",
   "execution_count": 25,
   "metadata": {},
   "outputs": [
    {
     "data": {
      "text/plain": [
       "PyObject <LimitView x=(-10.0, 10.0) y=(-inf, inf) z=(-inf, inf)>"
      ]
     },
     "execution_count": 25,
     "metadata": {},
     "output_type": "execute_result"
    }
   ],
   "source": [
    "model.limits"
   ]
  },
  {
   "cell_type": "code",
   "execution_count": 23,
   "metadata": {},
   "outputs": [
    {
     "data": {
      "text/plain": [
       "(-Inf, Inf)"
      ]
     },
     "execution_count": 23,
     "metadata": {},
     "output_type": "execute_result"
    }
   ],
   "source": [
    "get(model.limits,\"x\")"
   ]
  },
  {
   "cell_type": "code",
   "execution_count": 24,
   "metadata": {},
   "outputs": [
    {
     "data": {
      "text/plain": [
       "(-10, 10)"
      ]
     },
     "execution_count": 24,
     "metadata": {},
     "output_type": "execute_result"
    }
   ],
   "source": [
    "set!(model.limits,\"x\",(-10,10))"
   ]
  },
  {
   "cell_type": "code",
   "execution_count": 16,
   "metadata": {},
   "outputs": [
    {
     "data": {
      "text/plain": [
       "39-element Vector{Symbol}:\n",
       " :Key\n",
       " :__abstractmethods__\n",
       " :__class__\n",
       " :__delattr__\n",
       " :__dict__\n",
       " :__dir__\n",
       " :__doc__\n",
       " :__eq__\n",
       " :__format__\n",
       " :__ge__\n",
       " :__getattribute__\n",
       " :__getitem__\n",
       " :__gt__\n",
       " ⋮\n",
       " :__setitem__\n",
       " :__sizeof__\n",
       " :__slots__\n",
       " :__str__\n",
       " :__subclasshook__\n",
       " :__weakref__\n",
       " :_abc_impl\n",
       " :_get\n",
       " :_minuit\n",
       " :_ndim\n",
       " :_set\n",
       " :to_dict"
      ]
     },
     "execution_count": 16,
     "metadata": {},
     "output_type": "execute_result"
    }
   ],
   "source": [
    "keys(model.\"limits\")"
   ]
  },
  {
   "cell_type": "code",
   "execution_count": 34,
   "metadata": {},
   "outputs": [
    {
     "data": {
      "text/plain": [
       "PyObject Ptr{PyCall.PyObject_struct} @0x00007f0b44bc12c0"
      ]
     },
     "execution_count": 34,
     "metadata": {},
     "output_type": "execute_result"
    }
   ],
   "source": [
    "piminuit.util.LimitView((-10,10))"
   ]
  },
  {
   "cell_type": "code",
   "execution_count": 13,
   "metadata": {},
   "outputs": [
    {
     "data": {
      "text/html": [
       "<table>\n",
       "    <tr>\n",
       "        <th colspan=\"5\" style=\"text-align:center\" title=\"Minimizer\"> Migrad </th>\n",
       "    </tr>\n",
       "    <tr>\n",
       "        <td colspan=\"2\" style=\"text-align:left\" title=\"Minimum value of function\"> FCN = 2.568e-17 </td>\n",
       "        <td colspan=\"3\" style=\"text-align:center\" title=\"Total number of function and (optional) gradient evaluations\"> Nfcn = 36 </td>\n",
       "    </tr>\n",
       "    <tr>\n",
       "        <td colspan=\"2\" style=\"text-align:left\" title=\"Estimated distance to minimum and goal\"> EDM = 2.57e-17 (Goal: 0.0002) </td>\n",
       "        <td colspan=\"3\" style=\"text-align:center\" title=\"Total run time of algorithms\">  </td>\n",
       "    </tr>\n",
       "    <tr>\n",
       "        <td colspan=\"2\" style=\"text-align:center;background-color:#92CCA6;color:black\"> Valid Minimum </td>\n",
       "        <td colspan=\"3\" style=\"text-align:center;background-color:#92CCA6;color:black\"> No Parameters at limit </td>\n",
       "    </tr>\n",
       "    <tr>\n",
       "        <td colspan=\"2\" style=\"text-align:center;background-color:#92CCA6;color:black\"> Below EDM threshold (goal x 10) </td>\n",
       "        <td colspan=\"3\" style=\"text-align:center;background-color:#92CCA6;color:black\"> Below call limit </td>\n",
       "    </tr>\n",
       "    <tr>\n",
       "        <td style=\"text-align:center;background-color:#92CCA6;color:black\"> Covariance </td>\n",
       "        <td style=\"text-align:center;background-color:#92CCA6;color:black\"> Hesse ok </td>\n",
       "        <td style=\"text-align:center;background-color:#92CCA6;color:black\" title=\"Is covariance matrix accurate?\"> Accurate </td>\n",
       "        <td style=\"text-align:center;background-color:#92CCA6;color:black\" title=\"Is covariance matrix positive definite?\"> Pos. def. </td>\n",
       "        <td style=\"text-align:center;background-color:#92CCA6;color:black\" title=\"Was positive definiteness enforced by Minuit?\"> Not forced </td>\n",
       "    </tr>\n",
       "</table><table>\n",
       "    <tr>\n",
       "        <td></td>\n",
       "        <th title=\"Variable name\"> Name </th>\n",
       "        <th title=\"Value of parameter\"> Value </th>\n",
       "        <th title=\"Hesse error\"> Hesse Error </th>\n",
       "        <th title=\"Minos lower error\"> Minos Error- </th>\n",
       "        <th title=\"Minos upper error\"> Minos Error+ </th>\n",
       "        <th title=\"Lower limit of the parameter\"> Limit- </th>\n",
       "        <th title=\"Upper limit of the parameter\"> Limit+ </th>\n",
       "        <th title=\"Is the parameter fixed in the fit\"> Fixed </th>\n",
       "    </tr>\n",
       "    <tr>\n",
       "        <th> 0 </th>\n",
       "        <td> x </td>\n",
       "        <td> 2 </td>\n",
       "        <td> 1 </td>\n",
       "        <td>  </td>\n",
       "        <td>  </td>\n",
       "        <td>  </td>\n",
       "        <td>  </td>\n",
       "        <td>  </td>\n",
       "    </tr>\n",
       "    <tr>\n",
       "        <th> 1 </th>\n",
       "        <td> y </td>\n",
       "        <td> 3 </td>\n",
       "        <td> 1 </td>\n",
       "        <td>  </td>\n",
       "        <td>  </td>\n",
       "        <td>  </td>\n",
       "        <td>  </td>\n",
       "        <td>  </td>\n",
       "    </tr>\n",
       "    <tr>\n",
       "        <th> 2 </th>\n",
       "        <td> z </td>\n",
       "        <td> 5 </td>\n",
       "        <td> 1 </td>\n",
       "        <td>  </td>\n",
       "        <td>  </td>\n",
       "        <td>  </td>\n",
       "        <td>  </td>\n",
       "        <td>  </td>\n",
       "    </tr>\n",
       "</table><table>\n",
       "    <tr>\n",
       "        <td></td>\n",
       "        <th> x </th>\n",
       "        <th> y </th>\n",
       "        <th> z </th>\n",
       "    </tr>\n",
       "    <tr>\n",
       "        <th> x </th>\n",
       "        <td> 1 </td>\n",
       "        <td style=\"background-color:rgb(250,250,250);color:black\"> 1.11e-16 </td>\n",
       "        <td style=\"background-color:rgb(250,250,250);color:black\"> -5.55e-17 </td>\n",
       "    </tr>\n",
       "    <tr>\n",
       "        <th> y </th>\n",
       "        <td style=\"background-color:rgb(250,250,250);color:black\"> 1.11e-16 </td>\n",
       "        <td> 1 </td>\n",
       "        <td style=\"background-color:rgb(250,250,250);color:black\"> 1.67e-16 </td>\n",
       "    </tr>\n",
       "    <tr>\n",
       "        <th> z </th>\n",
       "        <td style=\"background-color:rgb(250,250,250);color:black\"> -5.55e-17 </td>\n",
       "        <td style=\"background-color:rgb(250,250,250);color:black\"> 1.67e-16 </td>\n",
       "        <td> 1 </td>\n",
       "    </tr>\n",
       "</table>"
      ],
      "text/plain": [
       "PyObject <FMin algorithm='Migrad' edm=2.567889783901509e-17 edm_goal=0.0002 errordef=1.0 fval=2.5678897838941243e-17 has_accurate_covar=True has_covariance=True has_made_posdef_covar=False has_parameters_at_limit=False has_posdef_covar=True has_reached_call_limit=False has_valid_parameters=True hesse_failed=False is_above_max_edm=False is_valid=True nfcn=36 ngrad=0 reduced_chi2=nan time=0.00042321100045228377>\n",
       "(Param(number=0, name='x', value=2.0000000000837734, error=0.9999999999998996, merror=None, is_const=False, is_fixed=False, lower_limit=None, upper_limit=None), Param(number=1, name='y', value=3.000000005049296, error=1.0000000000000089, merror=None, is_const=False, is_fixed=False, lower_limit=None, upper_limit=None), Param(number=2, name='z', value=4.999999999579894, error=0.9999999999992497, merror=None, is_const=False, is_fixed=False, lower_limit=None, upper_limit=None))\n",
       "[[ 1.00000000e+00  1.11022319e-16 -5.55111612e-17]\n",
       " [ 1.11022319e-16  1.00000000e+00  1.66533483e-16]\n",
       " [-5.55111612e-17  1.66533483e-16  1.00000000e+00]]"
      ]
     },
     "execution_count": 13,
     "metadata": {},
     "output_type": "execute_result"
    }
   ],
   "source": [
    "piminuit.Minuit.migrad(model)"
   ]
  },
  {
   "cell_type": "code",
   "execution_count": 14,
   "metadata": {},
   "outputs": [
    {
     "data": {
      "text/html": [
       "<table>\n",
       "    <tr>\n",
       "        <th colspan=\"5\" style=\"text-align:center\" title=\"Minimizer\"> Migrad </th>\n",
       "    </tr>\n",
       "    <tr>\n",
       "        <td colspan=\"2\" style=\"text-align:left\" title=\"Minimum value of function\"> FCN = 2.568e-17 </td>\n",
       "        <td colspan=\"3\" style=\"text-align:center\" title=\"Total number of function and (optional) gradient evaluations\"> Nfcn = 52 </td>\n",
       "    </tr>\n",
       "    <tr>\n",
       "        <td colspan=\"2\" style=\"text-align:left\" title=\"Estimated distance to minimum and goal\"> EDM = 2.57e-17 (Goal: 0.0002) </td>\n",
       "        <td colspan=\"3\" style=\"text-align:center\" title=\"Total run time of algorithms\">  </td>\n",
       "    </tr>\n",
       "    <tr>\n",
       "        <td colspan=\"2\" style=\"text-align:center;background-color:#92CCA6;color:black\"> Valid Minimum </td>\n",
       "        <td colspan=\"3\" style=\"text-align:center;background-color:#92CCA6;color:black\"> No Parameters at limit </td>\n",
       "    </tr>\n",
       "    <tr>\n",
       "        <td colspan=\"2\" style=\"text-align:center;background-color:#92CCA6;color:black\"> Below EDM threshold (goal x 10) </td>\n",
       "        <td colspan=\"3\" style=\"text-align:center;background-color:#92CCA6;color:black\"> Below call limit </td>\n",
       "    </tr>\n",
       "    <tr>\n",
       "        <td style=\"text-align:center;background-color:#92CCA6;color:black\"> Covariance </td>\n",
       "        <td style=\"text-align:center;background-color:#92CCA6;color:black\"> Hesse ok </td>\n",
       "        <td style=\"text-align:center;background-color:#92CCA6;color:black\" title=\"Is covariance matrix accurate?\"> Accurate </td>\n",
       "        <td style=\"text-align:center;background-color:#92CCA6;color:black\" title=\"Is covariance matrix positive definite?\"> Pos. def. </td>\n",
       "        <td style=\"text-align:center;background-color:#92CCA6;color:black\" title=\"Was positive definiteness enforced by Minuit?\"> Not forced </td>\n",
       "    </tr>\n",
       "</table><table>\n",
       "    <tr>\n",
       "        <td></td>\n",
       "        <th title=\"Variable name\"> Name </th>\n",
       "        <th title=\"Value of parameter\"> Value </th>\n",
       "        <th title=\"Hesse error\"> Hesse Error </th>\n",
       "        <th title=\"Minos lower error\"> Minos Error- </th>\n",
       "        <th title=\"Minos upper error\"> Minos Error+ </th>\n",
       "        <th title=\"Lower limit of the parameter\"> Limit- </th>\n",
       "        <th title=\"Upper limit of the parameter\"> Limit+ </th>\n",
       "        <th title=\"Is the parameter fixed in the fit\"> Fixed </th>\n",
       "    </tr>\n",
       "    <tr>\n",
       "        <th> 0 </th>\n",
       "        <td> x </td>\n",
       "        <td> 2 </td>\n",
       "        <td> 1 </td>\n",
       "        <td>  </td>\n",
       "        <td>  </td>\n",
       "        <td>  </td>\n",
       "        <td>  </td>\n",
       "        <td>  </td>\n",
       "    </tr>\n",
       "    <tr>\n",
       "        <th> 1 </th>\n",
       "        <td> y </td>\n",
       "        <td> 3 </td>\n",
       "        <td> 1 </td>\n",
       "        <td>  </td>\n",
       "        <td>  </td>\n",
       "        <td>  </td>\n",
       "        <td>  </td>\n",
       "        <td>  </td>\n",
       "    </tr>\n",
       "    <tr>\n",
       "        <th> 2 </th>\n",
       "        <td> z </td>\n",
       "        <td> 5 </td>\n",
       "        <td> 1 </td>\n",
       "        <td>  </td>\n",
       "        <td>  </td>\n",
       "        <td>  </td>\n",
       "        <td>  </td>\n",
       "        <td>  </td>\n",
       "    </tr>\n",
       "</table><table>\n",
       "    <tr>\n",
       "        <td></td>\n",
       "        <th> x </th>\n",
       "        <th> y </th>\n",
       "        <th> z </th>\n",
       "    </tr>\n",
       "    <tr>\n",
       "        <th> x </th>\n",
       "        <td> 1 </td>\n",
       "        <td style=\"background-color:rgb(250,250,250);color:black\"> 7.52e-33 </td>\n",
       "        <td style=\"background-color:rgb(250,250,250);color:black\"> -8.67e-17 </td>\n",
       "    </tr>\n",
       "    <tr>\n",
       "        <th> y </th>\n",
       "        <td style=\"background-color:rgb(250,250,250);color:black\"> 7.52e-33 </td>\n",
       "        <td> 1 </td>\n",
       "        <td style=\"background-color:rgb(250,250,250);color:black\"> -8.67e-17 </td>\n",
       "    </tr>\n",
       "    <tr>\n",
       "        <th> z </th>\n",
       "        <td style=\"background-color:rgb(250,250,250);color:black\"> -8.67e-17 </td>\n",
       "        <td style=\"background-color:rgb(250,250,250);color:black\"> -8.67e-17 </td>\n",
       "        <td> 1 </td>\n",
       "    </tr>\n",
       "</table>"
      ],
      "text/plain": [
       "PyObject <FMin algorithm='Migrad' edm=2.5678897839167363e-17 edm_goal=0.0002 errordef=1.0 fval=2.5678897838941243e-17 has_accurate_covar=True has_covariance=True has_made_posdef_covar=False has_parameters_at_limit=False has_posdef_covar=True has_reached_call_limit=False has_valid_parameters=True hesse_failed=False is_above_max_edm=False is_valid=True nfcn=52 ngrad=0 reduced_chi2=nan time=0.0006110340000304859>\n",
       "(Param(number=0, name='x', value=2.0000000000837734, error=0.9999999999989903, merror=None, is_const=False, is_fixed=False, lower_limit=None, upper_limit=None), Param(number=1, name='y', value=3.000000005049296, error=0.9999999999990995, merror=None, is_const=False, is_fixed=False, lower_limit=None, upper_limit=None), Param(number=2, name='z', value=4.999999999579894, error=1.000000000001069, merror=None, is_const=False, is_fixed=False, lower_limit=None, upper_limit=None))\n",
       "[[ 1.00000000e+00  7.52316653e-33 -8.67361893e-17]\n",
       " [ 7.52316653e-33  1.00000000e+00 -8.67361892e-17]\n",
       " [-8.67361893e-17 -8.67361892e-17  1.00000000e+00]]"
      ]
     },
     "execution_count": 14,
     "metadata": {},
     "output_type": "execute_result"
    }
   ],
   "source": [
    "piminuit.Minuit.hesse(model)"
   ]
  },
  {
   "cell_type": "code",
   "execution_count": 15,
   "metadata": {},
   "outputs": [
    {
     "data": {
      "text/html": [
       "<table>\n",
       "    <tr>\n",
       "        <th colspan=\"5\" style=\"text-align:center\" title=\"Minimizer\"> Migrad </th>\n",
       "    </tr>\n",
       "    <tr>\n",
       "        <td colspan=\"2\" style=\"text-align:left\" title=\"Minimum value of function\"> FCN = 2.568e-17 </td>\n",
       "        <td colspan=\"3\" style=\"text-align:center\" title=\"Total number of function and (optional) gradient evaluations\"> Nfcn = 112 </td>\n",
       "    </tr>\n",
       "    <tr>\n",
       "        <td colspan=\"2\" style=\"text-align:left\" title=\"Estimated distance to minimum and goal\"> EDM = 2.57e-17 (Goal: 0.0002) </td>\n",
       "        <td colspan=\"3\" style=\"text-align:center\" title=\"Total run time of algorithms\">  </td>\n",
       "    </tr>\n",
       "    <tr>\n",
       "        <td colspan=\"2\" style=\"text-align:center;background-color:#92CCA6;color:black\"> Valid Minimum </td>\n",
       "        <td colspan=\"3\" style=\"text-align:center;background-color:#92CCA6;color:black\"> No Parameters at limit </td>\n",
       "    </tr>\n",
       "    <tr>\n",
       "        <td colspan=\"2\" style=\"text-align:center;background-color:#92CCA6;color:black\"> Below EDM threshold (goal x 10) </td>\n",
       "        <td colspan=\"3\" style=\"text-align:center;background-color:#92CCA6;color:black\"> Below call limit </td>\n",
       "    </tr>\n",
       "    <tr>\n",
       "        <td style=\"text-align:center;background-color:#92CCA6;color:black\"> Covariance </td>\n",
       "        <td style=\"text-align:center;background-color:#92CCA6;color:black\"> Hesse ok </td>\n",
       "        <td style=\"text-align:center;background-color:#92CCA6;color:black\" title=\"Is covariance matrix accurate?\"> Accurate </td>\n",
       "        <td style=\"text-align:center;background-color:#92CCA6;color:black\" title=\"Is covariance matrix positive definite?\"> Pos. def. </td>\n",
       "        <td style=\"text-align:center;background-color:#92CCA6;color:black\" title=\"Was positive definiteness enforced by Minuit?\"> Not forced </td>\n",
       "    </tr>\n",
       "</table><table>\n",
       "    <tr>\n",
       "        <td></td>\n",
       "        <th title=\"Variable name\"> Name </th>\n",
       "        <th title=\"Value of parameter\"> Value </th>\n",
       "        <th title=\"Hesse error\"> Hesse Error </th>\n",
       "        <th title=\"Minos lower error\"> Minos Error- </th>\n",
       "        <th title=\"Minos upper error\"> Minos Error+ </th>\n",
       "        <th title=\"Lower limit of the parameter\"> Limit- </th>\n",
       "        <th title=\"Upper limit of the parameter\"> Limit+ </th>\n",
       "        <th title=\"Is the parameter fixed in the fit\"> Fixed </th>\n",
       "    </tr>\n",
       "    <tr>\n",
       "        <th> 0 </th>\n",
       "        <td> x </td>\n",
       "        <td> 2 </td>\n",
       "        <td> 1 </td>\n",
       "        <td> -1 </td>\n",
       "        <td> 1 </td>\n",
       "        <td>  </td>\n",
       "        <td>  </td>\n",
       "        <td>  </td>\n",
       "    </tr>\n",
       "    <tr>\n",
       "        <th> 1 </th>\n",
       "        <td> y </td>\n",
       "        <td> 3 </td>\n",
       "        <td> 1 </td>\n",
       "        <td> -1 </td>\n",
       "        <td> 1 </td>\n",
       "        <td>  </td>\n",
       "        <td>  </td>\n",
       "        <td>  </td>\n",
       "    </tr>\n",
       "    <tr>\n",
       "        <th> 2 </th>\n",
       "        <td> z </td>\n",
       "        <td> 5 </td>\n",
       "        <td> 1 </td>\n",
       "        <td> -1 </td>\n",
       "        <td> 1 </td>\n",
       "        <td>  </td>\n",
       "        <td>  </td>\n",
       "        <td>  </td>\n",
       "    </tr>\n",
       "</table><table>\n",
       "    <tr>\n",
       "        <td></td>\n",
       "        <th colspan=\"2\" style=\"text-align:center\" title=\"Parameter name\"> x </th>\n",
       "        <th colspan=\"2\" style=\"text-align:center\" title=\"Parameter name\"> y </th>\n",
       "        <th colspan=\"2\" style=\"text-align:center\" title=\"Parameter name\"> z </th>\n",
       "    </tr>\n",
       "    <tr>\n",
       "        <th title=\"Lower and upper minos error of the parameter\"> Error </th>\n",
       "        <td> -1 </td>\n",
       "        <td> 1 </td>\n",
       "        <td> -1 </td>\n",
       "        <td> 1 </td>\n",
       "        <td> -1 </td>\n",
       "        <td> 1 </td>\n",
       "    </tr>\n",
       "    <tr>\n",
       "        <th title=\"Validity of lower/upper minos error\"> Valid </th>\n",
       "        <td style=\"background-color:#92CCA6;color:black\"> True </td>\n",
       "        <td style=\"background-color:#92CCA6;color:black\"> True </td>\n",
       "        <td style=\"background-color:#92CCA6;color:black\"> True </td>\n",
       "        <td style=\"background-color:#92CCA6;color:black\"> True </td>\n",
       "        <td style=\"background-color:#92CCA6;color:black\"> True </td>\n",
       "        <td style=\"background-color:#92CCA6;color:black\"> True </td>\n",
       "    </tr>\n",
       "    <tr>\n",
       "        <th title=\"Did scan hit limit of any parameter?\"> At Limit </th>\n",
       "        <td style=\"background-color:#92CCA6;color:black\"> False </td>\n",
       "        <td style=\"background-color:#92CCA6;color:black\"> False </td>\n",
       "        <td style=\"background-color:#92CCA6;color:black\"> False </td>\n",
       "        <td style=\"background-color:#92CCA6;color:black\"> False </td>\n",
       "        <td style=\"background-color:#92CCA6;color:black\"> False </td>\n",
       "        <td style=\"background-color:#92CCA6;color:black\"> False </td>\n",
       "    </tr>\n",
       "    <tr>\n",
       "        <th title=\"Did scan hit function call limit?\"> Max FCN </th>\n",
       "        <td style=\"background-color:#92CCA6;color:black\"> False </td>\n",
       "        <td style=\"background-color:#92CCA6;color:black\"> False </td>\n",
       "        <td style=\"background-color:#92CCA6;color:black\"> False </td>\n",
       "        <td style=\"background-color:#92CCA6;color:black\"> False </td>\n",
       "        <td style=\"background-color:#92CCA6;color:black\"> False </td>\n",
       "        <td style=\"background-color:#92CCA6;color:black\"> False </td>\n",
       "    </tr>\n",
       "    <tr>\n",
       "        <th title=\"New minimum found when doing scan?\"> New Min </th>\n",
       "        <td style=\"background-color:#92CCA6;color:black\"> False </td>\n",
       "        <td style=\"background-color:#92CCA6;color:black\"> False </td>\n",
       "        <td style=\"background-color:#92CCA6;color:black\"> False </td>\n",
       "        <td style=\"background-color:#92CCA6;color:black\"> False </td>\n",
       "        <td style=\"background-color:#92CCA6;color:black\"> False </td>\n",
       "        <td style=\"background-color:#92CCA6;color:black\"> False </td>\n",
       "    </tr>\n",
       "</table><table>\n",
       "    <tr>\n",
       "        <td></td>\n",
       "        <th> x </th>\n",
       "        <th> y </th>\n",
       "        <th> z </th>\n",
       "    </tr>\n",
       "    <tr>\n",
       "        <th> x </th>\n",
       "        <td> 1 </td>\n",
       "        <td style=\"background-color:rgb(250,250,250);color:black\"> 7.52e-33 </td>\n",
       "        <td style=\"background-color:rgb(250,250,250);color:black\"> -8.67e-17 </td>\n",
       "    </tr>\n",
       "    <tr>\n",
       "        <th> y </th>\n",
       "        <td style=\"background-color:rgb(250,250,250);color:black\"> 7.52e-33 </td>\n",
       "        <td> 1 </td>\n",
       "        <td style=\"background-color:rgb(250,250,250);color:black\"> -8.67e-17 </td>\n",
       "    </tr>\n",
       "    <tr>\n",
       "        <th> z </th>\n",
       "        <td style=\"background-color:rgb(250,250,250);color:black\"> -8.67e-17 </td>\n",
       "        <td style=\"background-color:rgb(250,250,250);color:black\"> -8.67e-17 </td>\n",
       "        <td> 1 </td>\n",
       "    </tr>\n",
       "</table>"
      ],
      "text/plain": [
       "PyObject <FMin algorithm='Migrad' edm=2.5678897839167363e-17 edm_goal=0.0002 errordef=1.0 fval=2.5678897838941243e-17 has_accurate_covar=True has_covariance=True has_made_posdef_covar=False has_parameters_at_limit=False has_posdef_covar=True has_reached_call_limit=False has_valid_parameters=True hesse_failed=False is_above_max_edm=False is_valid=True nfcn=112 ngrad=0 reduced_chi2=nan time=0.0017547569996168022>\n",
       "(Param(number=0, name='x', value=2.0000000000837734, error=0.9999999999989903, merror=(-1.0000000000837734, 0.9999999999162267), is_const=False, is_fixed=False, lower_limit=None, upper_limit=None), Param(number=1, name='y', value=3.000000005049296, error=0.9999999999990995, merror=(-1.000000005049296, 0.999999994950704), is_const=False, is_fixed=False, lower_limit=None, upper_limit=None), Param(number=2, name='z', value=4.999999999579894, error=1.000000000001069, merror=(-0.9999999995798943, 1.0000000004201062), is_const=False, is_fixed=False, lower_limit=None, upper_limit=None))\n",
       "<MErrors\n",
       "  <MError number=0 name='x' lower=-1.0000000000837734 upper=0.9999999999162267 is_valid=True lower_valid=True upper_valid=True at_lower_limit=False at_upper_limit=False at_lower_max_fcn=False at_upper_max_fcn=False lower_new_min=False upper_new_min=False nfcn=20 min=2.0000000000837734>,\n",
       "  <MError number=1 name='y' lower=-1.000000005049296 upper=0.999999994950704 is_valid=True lower_valid=True upper_valid=True at_lower_limit=False at_upper_limit=False at_lower_max_fcn=False at_upper_max_fcn=False lower_new_min=False upper_new_min=False nfcn=20 min=3.000000005049296>,\n",
       "  <MError number=2 name='z' lower=-0.9999999995798943 upper=1.0000000004201062 is_valid=True lower_valid=True upper_valid=True at_lower_limit=False at_upper_limit=False at_lower_max_fcn=False at_upper_max_fcn=False lower_new_min=False upper_new_min=False nfcn=20 min=4.999999999579894>\n",
       ">\n",
       "[[ 1.00000000e+00  7.52316653e-33 -8.67361893e-17]\n",
       " [ 7.52316653e-33  1.00000000e+00 -8.67361892e-17]\n",
       " [-8.67361893e-17 -8.67361892e-17  1.00000000e+00]]"
      ]
     },
     "execution_count": 15,
     "metadata": {},
     "output_type": "execute_result"
    }
   ],
   "source": [
    "piminuit.Minuit.minos(model)"
   ]
  },
  {
   "cell_type": "code",
   "execution_count": 21,
   "metadata": {},
   "outputs": [
    {
     "data": {
      "text/plain": [
       "PyObject <ValueView x=2.0000000000837734 y=3.000000005049296 z=4.999999999579894>"
      ]
     },
     "execution_count": 21,
     "metadata": {},
     "output_type": "execute_result"
    }
   ],
   "source": [
    "model.values"
   ]
  },
  {
   "cell_type": "code",
   "execution_count": 23,
   "metadata": {},
   "outputs": [
    {
     "data": {
      "text/plain": [
       "3.000000005049296"
      ]
     },
     "execution_count": 23,
     "metadata": {},
     "output_type": "execute_result"
    }
   ],
   "source": [
    "get(model.values,1)"
   ]
  },
  {
   "cell_type": "code",
   "execution_count": 11,
   "metadata": {},
   "outputs": [
    {
     "data": {
      "text/plain": [
       "PyObject array([0, 1], dtype=int64)"
      ]
     },
     "execution_count": 11,
     "metadata": {},
     "output_type": "execute_result"
    }
   ],
   "source": [
    "PyObject([0,1])"
   ]
  },
  {
   "cell_type": "code",
   "execution_count": null,
   "metadata": {},
   "outputs": [],
   "source": []
  }
 ],
 "metadata": {
  "interpreter": {
   "hash": "da5c222fca3f94e94d4b307e312792c2fe11fdec34ad970b2dc515d52579dd3d"
  },
  "kernelspec": {
   "display_name": "Julia 1.7.2",
   "language": "julia",
   "name": "julia-1.7"
  },
  "language_info": {
   "file_extension": ".jl",
   "mimetype": "application/julia",
   "name": "julia",
   "version": "1.7.2"
  },
  "orig_nbformat": 4
 },
 "nbformat": 4,
 "nbformat_minor": 2
}
